{
 "cells": [
  {
   "cell_type": "markdown",
   "metadata": {
    "Collapsed": "false"
   },
   "source": [
    "# Create masks to frame the problem as a segmentation task\n",
    "\n",
    "Sometimes it is useful to have the classifications as a mask instead of boxes.\n",
    "\n",
    "In this notebook we will convert the boxes to a mask and save a mask for every classification."
   ]
  },
  {
   "cell_type": "code",
   "execution_count": 1,
   "metadata": {
    "Collapsed": "false"
   },
   "outputs": [],
   "source": [
    "%load_ext autoreload\n",
    "%autoreload 2\n",
    "%matplotlib inline"
   ]
  },
  {
   "cell_type": "code",
   "execution_count": 2,
   "metadata": {
    "Collapsed": "false"
   },
   "outputs": [],
   "source": [
    "from pyclouds.imports import *\n",
    "from pyclouds.plot import *\n",
    "from pyclouds.zooniverse import *\n",
    "from pyclouds.helpers import wh2xy"
   ]
  },
  {
   "cell_type": "code",
   "execution_count": 3,
   "metadata": {
    "Collapsed": "false"
   },
   "outputs": [],
   "source": [
    "IMGDIR = '/local/S.Rasp/cloud-classification/'"
   ]
  },
  {
   "cell_type": "markdown",
   "metadata": {
    "Collapsed": "false"
   },
   "source": [
    "## Load datasets"
   ]
  },
  {
   "cell_type": "code",
   "execution_count": 4,
   "metadata": {
    "Collapsed": "false"
   },
   "outputs": [],
   "source": [
    "clas_prac = pd.read_pickle('../../preprocessed_data/clas_prac.pkl')\n",
    "clas_full = pd.read_pickle('../../preprocessed_data/clas_full.pkl')\n",
    "annos_prac = pd.read_pickle('../../preprocessed_data/annos_prac.pkl')\n",
    "annos_full = pd.read_pickle('../../preprocessed_data/annos_full.pkl')"
   ]
  },
  {
   "cell_type": "code",
   "execution_count": null,
   "metadata": {
    "Collapsed": "false"
   },
   "outputs": [],
   "source": [
    "subj_ids_prac = clas_prac.subject_ids.unique()\n",
    "subj_ids_full = clas_full.subject_ids.unique()"
   ]
  },
  {
   "cell_type": "markdown",
   "metadata": {
    "Collapsed": "false"
   },
   "source": [
    "## Create one mask per classification"
   ]
  },
  {
   "cell_type": "code",
   "execution_count": null,
   "metadata": {
    "Collapsed": "false"
   },
   "outputs": [
    {
     "data": {
      "text/plain": [
       "30310"
      ]
     },
     "execution_count": 6,
     "metadata": {},
     "output_type": "execute_result"
    }
   ],
   "source": [
    "clas_ids = annos_full.classification_id.unique(); len(clas_ids)"
   ]
  },
  {
   "cell_type": "code",
   "execution_count": null,
   "metadata": {
    "Collapsed": "false"
   },
   "outputs": [
    {
     "data": {
      "text/plain": [
       "['Sugar', 'Flower', 'Fish', 'Gravel']"
      ]
     },
     "execution_count": 7,
     "metadata": {},
     "output_type": "execute_result"
    }
   ],
   "source": [
    "classes"
   ]
  },
  {
   "cell_type": "code",
   "execution_count": null,
   "metadata": {
    "Collapsed": "false"
   },
   "outputs": [],
   "source": [
    "cl2id = {c: i+1 for i, c in enumerate(classes)}"
   ]
  },
  {
   "cell_type": "code",
   "execution_count": null,
   "metadata": {
    "Collapsed": "false"
   },
   "outputs": [
    {
     "data": {
      "text/plain": [
       "{'Sugar': 1, 'Flower': 2, 'Fish': 3, 'Gravel': 4}"
      ]
     },
     "execution_count": 9,
     "metadata": {},
     "output_type": "execute_result"
    }
   ],
   "source": [
    "cl2id"
   ]
  },
  {
   "cell_type": "code",
   "execution_count": null,
   "metadata": {
    "Collapsed": "false"
   },
   "outputs": [],
   "source": [
    "def size(xywh): return xywh[2] * xywh[3]"
   ]
  },
  {
   "cell_type": "code",
   "execution_count": null,
   "metadata": {
    "Collapsed": "false"
   },
   "outputs": [],
   "source": [
    "def create_mask(clas_id, annos_df, img_dir, img_size=(2100, 1400), mask_dir='masks'):\n",
    "    \"\"\"\n",
    "    Create a mask for one classification.\n",
    "    I checked and the amount of overlap between boxes in one classification is relatively small. \n",
    "    For this reason we will just start with the largest box for a classification and \n",
    "    then overwrite the image with progressively smaller boxes.\n",
    "    \"\"\"\n",
    "    ans = annos_df[annos_df.classification_id == clas_id]\n",
    "    fn = ans.fn.iloc[0]\n",
    "    mask_fn = mask_dir + '/' + fn.rstrip('.jpeg') + '_' + str(clas_id) + '.png'\n",
    "    os.makedirs(os.path.join(img_dir, *mask_fn.split('/')[:-1]), exist_ok=True)\n",
    "    mask = np.zeros(img_size, dtype=np.int8)\n",
    "    \n",
    "    if np.isnan(ans.x.iloc[0]): # Save image of zeros if no annotations\n",
    "        m = Image.fromarray(mask.astype(np.int8).T)\n",
    "        m.save(img_dir + mask_fn)\n",
    "    \n",
    "    else:\n",
    "        ans_list = [[list(r[['x', 'y', 'width', 'height']].astype(int)), \n",
    "                     r['tool_label']] for i, r in ans.iterrows()]\n",
    "        ans_list.sort(key=lambda x: size(x[0]), reverse=True)\n",
    "\n",
    "        for a in ans_list:\n",
    "            x1, y1, x2, y2 = wh2xy(*a[0])\n",
    "            mask[x1:x2, y1:y2] = cl2id[a[1]]\n",
    "\n",
    "        m = Image.fromarray(mask.astype(np.int8).T)\n",
    "        m.save(img_dir + mask_fn)\n",
    "    \n",
    "    return fn, mask_fn"
   ]
  },
  {
   "cell_type": "code",
   "execution_count": null,
   "metadata": {
    "Collapsed": "false"
   },
   "outputs": [
    {
     "data": {
      "application/vnd.jupyter.widget-view+json": {
       "model_id": "92d26940a02449fca00768aee1ec2ac7",
       "version_major": 2,
       "version_minor": 0
      },
      "text/plain": [
       "HBox(children=(IntProgress(value=0, max=30310), HTML(value='')))"
      ]
     },
     "metadata": {},
     "output_type": "display_data"
    }
   ],
   "source": [
    "fns, mask_fns = [], []\n",
    "for c in tqdm(clas_ids):\n",
    "    fn, mask_fn = create_mask(c, annos_full, IMGDIR, mask_dir='masks2')"
   ]
  },
  {
   "cell_type": "code",
   "execution_count": null,
   "metadata": {
    "Collapsed": "false"
   },
   "outputs": [],
   "source": []
  }
 ],
 "metadata": {
  "kernelspec": {
   "display_name": "Python 3",
   "language": "python",
   "name": "python3"
  },
  "language_info": {
   "codemirror_mode": {
    "name": "ipython",
    "version": 3
   },
   "file_extension": ".py",
   "mimetype": "text/x-python",
   "name": "python",
   "nbconvert_exporter": "python",
   "pygments_lexer": "ipython3",
   "version": "3.7.3"
  },
  "toc": {
   "base_numbering": 1,
   "nav_menu": {},
   "number_sections": true,
   "sideBar": false,
   "skip_h1_title": true,
   "title_cell": "Table of Contents",
   "title_sidebar": "Contents",
   "toc_cell": false,
   "toc_position": {},
   "toc_section_display": true,
   "toc_window_display": false
  }
 },
 "nbformat": 4,
 "nbformat_minor": 4
}
