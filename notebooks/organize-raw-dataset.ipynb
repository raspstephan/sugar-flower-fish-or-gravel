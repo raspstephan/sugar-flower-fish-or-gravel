{
 "cells": [
  {
   "cell_type": "markdown",
   "metadata": {},
   "source": [
    "# Organize the raw Zooniverse dataset\n",
    "\n",
    "This notebook is to ..."
   ]
  },
  {
   "cell_type": "code",
   "execution_count": 319,
   "metadata": {},
   "outputs": [
    {
     "name": "stdout",
     "output_type": "stream",
     "text": [
      "The autoreload extension is already loaded. To reload it, use:\n",
      "  %reload_ext autoreload\n"
     ]
    }
   ],
   "source": [
    "# Basic imports\n",
    "from pyclouds.imports import *\n",
    "sns.set_style('darkgrid')\n",
    "%matplotlib inline\n",
    "\n",
    "%load_ext autoreload\n",
    "%autoreload 2"
   ]
  },
  {
   "cell_type": "markdown",
   "metadata": {},
   "source": [
    "## Import and understand the entire dataset\n",
    "\n",
    "The dataset from 16 December contains the MPI and the LMD classification data, for the real dataset as well as for the practice dataset.\n",
    "\n",
    "To handle the data we will use some functions from pyclouds.zooniverse"
   ]
  },
  {
   "cell_type": "code",
   "execution_count": 320,
   "metadata": {},
   "outputs": [],
   "source": [
    "from pyclouds.zooniverse import *"
   ]
  },
  {
   "cell_type": "code",
   "execution_count": 321,
   "metadata": {},
   "outputs": [
    {
     "name": "stdout",
     "output_type": "stream",
     "text": [
      "sugar-flower-fish-or-gravel-classifications_18_11_02.csv\r\n",
      "sugar-flower-fish-or-gravel-classifications_18_11_30.csv\r\n",
      "sugar-flower-fish-or-gravel-classifications_18_12_16.csv\r\n",
      "sugar-flower-fish-or-gravel-subjects_18_11_05.csv\r\n",
      "sugar-flower-fish-or-gravel-subjects_19_01_14.csv\r\n"
     ]
    }
   ],
   "source": [
    "!ls ../zooniverse_raw/"
   ]
  },
  {
   "cell_type": "code",
   "execution_count": 322,
   "metadata": {},
   "outputs": [],
   "source": [
    "clas_fn = '../zooniverse_raw/sugar-flower-fish-or-gravel-classifications_18_12_16.csv'\n",
    "subj_fn = '../zooniverse_raw/sugar-flower-fish-or-gravel-subjects_19_01_14.csv'"
   ]
  },
  {
   "cell_type": "code",
   "execution_count": 323,
   "metadata": {},
   "outputs": [],
   "source": [
    "clas = parse_classifications(clas_fn, json_columns=['metadata', 'annotations', 'subject_data'])"
   ]
  },
  {
   "cell_type": "markdown",
   "metadata": {},
   "source": [
    "This is now a Pandas dataframe with all the information. Each row represents one user's classification for one image."
   ]
  },
  {
   "cell_type": "code",
   "execution_count": 324,
   "metadata": {},
   "outputs": [
    {
     "data": {
      "text/plain": [
       "34616"
      ]
     },
     "execution_count": 324,
     "metadata": {},
     "output_type": "execute_result"
    }
   ],
   "source": [
    "len(clas)"
   ]
  },
  {
   "cell_type": "code",
   "execution_count": 325,
   "metadata": {
    "scrolled": false
   },
   "outputs": [
    {
     "data": {
      "text/html": [
       "<div>\n",
       "<style scoped>\n",
       "    .dataframe tbody tr th:only-of-type {\n",
       "        vertical-align: middle;\n",
       "    }\n",
       "\n",
       "    .dataframe tbody tr th {\n",
       "        vertical-align: top;\n",
       "    }\n",
       "\n",
       "    .dataframe thead th {\n",
       "        text-align: right;\n",
       "    }\n",
       "</style>\n",
       "<table border=\"1\" class=\"dataframe\">\n",
       "  <thead>\n",
       "    <tr style=\"text-align: right;\">\n",
       "      <th></th>\n",
       "      <th>classification_id</th>\n",
       "      <th>user_name</th>\n",
       "      <th>user_id</th>\n",
       "      <th>user_ip</th>\n",
       "      <th>workflow_id</th>\n",
       "      <th>workflow_name</th>\n",
       "      <th>workflow_version</th>\n",
       "      <th>created_at</th>\n",
       "      <th>gold_standard</th>\n",
       "      <th>expert</th>\n",
       "      <th>metadata</th>\n",
       "      <th>annotations</th>\n",
       "      <th>subject_data</th>\n",
       "      <th>subject_ids</th>\n",
       "    </tr>\n",
       "  </thead>\n",
       "  <tbody>\n",
       "    <tr>\n",
       "      <th>34611</th>\n",
       "      <td>136647387</td>\n",
       "      <td>onnoq</td>\n",
       "      <td>1834851.0</td>\n",
       "      <td>af96bca21f888f9ee82c</td>\n",
       "      <td>8073</td>\n",
       "      <td>Full dataset</td>\n",
       "      <td>13.11</td>\n",
       "      <td>2018-12-14 16:09:42 UTC</td>\n",
       "      <td>NaN</td>\n",
       "      <td>NaN</td>\n",
       "      <td>{'source': 'api', 'session': '67f9a58fcd31b031...</td>\n",
       "      <td>{'task': 'T0', 'task_label': 'Draw bounding bo...</td>\n",
       "      <td>{'27142706': {'retired': None, 'fn': '/project...</td>\n",
       "      <td>27142706</td>\n",
       "    </tr>\n",
       "    <tr>\n",
       "      <th>34612</th>\n",
       "      <td>136647412</td>\n",
       "      <td>onnoq</td>\n",
       "      <td>1834851.0</td>\n",
       "      <td>af96bca21f888f9ee82c</td>\n",
       "      <td>8073</td>\n",
       "      <td>Full dataset</td>\n",
       "      <td>13.11</td>\n",
       "      <td>2018-12-14 16:09:54 UTC</td>\n",
       "      <td>NaN</td>\n",
       "      <td>NaN</td>\n",
       "      <td>{'source': 'api', 'session': '67f9a58fcd31b031...</td>\n",
       "      <td>{'task': 'T0', 'task_label': 'Draw bounding bo...</td>\n",
       "      <td>{'27144789': {'retired': None, 'fn': '/project...</td>\n",
       "      <td>27144789</td>\n",
       "    </tr>\n",
       "    <tr>\n",
       "      <th>34613</th>\n",
       "      <td>136647449</td>\n",
       "      <td>onnoq</td>\n",
       "      <td>1834851.0</td>\n",
       "      <td>af96bca21f888f9ee82c</td>\n",
       "      <td>8073</td>\n",
       "      <td>Full dataset</td>\n",
       "      <td>13.11</td>\n",
       "      <td>2018-12-14 16:10:08 UTC</td>\n",
       "      <td>NaN</td>\n",
       "      <td>NaN</td>\n",
       "      <td>{'source': 'api', 'session': '67f9a58fcd31b031...</td>\n",
       "      <td>{'task': 'T0', 'task_label': 'Draw bounding bo...</td>\n",
       "      <td>{'27163862': {'retired': None, 'fn': '/project...</td>\n",
       "      <td>27163862</td>\n",
       "    </tr>\n",
       "    <tr>\n",
       "      <th>34614</th>\n",
       "      <td>136647469</td>\n",
       "      <td>onnoq</td>\n",
       "      <td>1834851.0</td>\n",
       "      <td>af96bca21f888f9ee82c</td>\n",
       "      <td>8073</td>\n",
       "      <td>Full dataset</td>\n",
       "      <td>13.11</td>\n",
       "      <td>2018-12-14 16:10:14 UTC</td>\n",
       "      <td>NaN</td>\n",
       "      <td>NaN</td>\n",
       "      <td>{'source': 'api', 'session': '67f9a58fcd31b031...</td>\n",
       "      <td>{'task': 'T0', 'task_label': 'Draw bounding bo...</td>\n",
       "      <td>{'27143251': {'retired': {'id': 24671973, 'wor...</td>\n",
       "      <td>27143251</td>\n",
       "    </tr>\n",
       "    <tr>\n",
       "      <th>34615</th>\n",
       "      <td>136647512</td>\n",
       "      <td>onnoq</td>\n",
       "      <td>1834851.0</td>\n",
       "      <td>af96bca21f888f9ee82c</td>\n",
       "      <td>8073</td>\n",
       "      <td>Full dataset</td>\n",
       "      <td>13.11</td>\n",
       "      <td>2018-12-14 16:10:28 UTC</td>\n",
       "      <td>NaN</td>\n",
       "      <td>NaN</td>\n",
       "      <td>{'source': 'api', 'session': '67f9a58fcd31b031...</td>\n",
       "      <td>{'task': 'T0', 'task_label': 'Draw bounding bo...</td>\n",
       "      <td>{'27147693': {'retired': None, 'fn': '/project...</td>\n",
       "      <td>27147693</td>\n",
       "    </tr>\n",
       "  </tbody>\n",
       "</table>\n",
       "</div>"
      ],
      "text/plain": [
       "       classification_id user_name    user_id               user_ip  \\\n",
       "34611          136647387     onnoq  1834851.0  af96bca21f888f9ee82c   \n",
       "34612          136647412     onnoq  1834851.0  af96bca21f888f9ee82c   \n",
       "34613          136647449     onnoq  1834851.0  af96bca21f888f9ee82c   \n",
       "34614          136647469     onnoq  1834851.0  af96bca21f888f9ee82c   \n",
       "34615          136647512     onnoq  1834851.0  af96bca21f888f9ee82c   \n",
       "\n",
       "       workflow_id workflow_name  workflow_version               created_at  \\\n",
       "34611         8073  Full dataset             13.11  2018-12-14 16:09:42 UTC   \n",
       "34612         8073  Full dataset             13.11  2018-12-14 16:09:54 UTC   \n",
       "34613         8073  Full dataset             13.11  2018-12-14 16:10:08 UTC   \n",
       "34614         8073  Full dataset             13.11  2018-12-14 16:10:14 UTC   \n",
       "34615         8073  Full dataset             13.11  2018-12-14 16:10:28 UTC   \n",
       "\n",
       "       gold_standard  expert  \\\n",
       "34611            NaN     NaN   \n",
       "34612            NaN     NaN   \n",
       "34613            NaN     NaN   \n",
       "34614            NaN     NaN   \n",
       "34615            NaN     NaN   \n",
       "\n",
       "                                                metadata  \\\n",
       "34611  {'source': 'api', 'session': '67f9a58fcd31b031...   \n",
       "34612  {'source': 'api', 'session': '67f9a58fcd31b031...   \n",
       "34613  {'source': 'api', 'session': '67f9a58fcd31b031...   \n",
       "34614  {'source': 'api', 'session': '67f9a58fcd31b031...   \n",
       "34615  {'source': 'api', 'session': '67f9a58fcd31b031...   \n",
       "\n",
       "                                             annotations  \\\n",
       "34611  {'task': 'T0', 'task_label': 'Draw bounding bo...   \n",
       "34612  {'task': 'T0', 'task_label': 'Draw bounding bo...   \n",
       "34613  {'task': 'T0', 'task_label': 'Draw bounding bo...   \n",
       "34614  {'task': 'T0', 'task_label': 'Draw bounding bo...   \n",
       "34615  {'task': 'T0', 'task_label': 'Draw bounding bo...   \n",
       "\n",
       "                                            subject_data  subject_ids  \n",
       "34611  {'27142706': {'retired': None, 'fn': '/project...     27142706  \n",
       "34612  {'27144789': {'retired': None, 'fn': '/project...     27144789  \n",
       "34613  {'27163862': {'retired': None, 'fn': '/project...     27163862  \n",
       "34614  {'27143251': {'retired': {'id': 24671973, 'wor...     27143251  \n",
       "34615  {'27147693': {'retired': None, 'fn': '/project...     27147693  "
      ]
     },
     "execution_count": 325,
     "metadata": {},
     "output_type": "execute_result"
    }
   ],
   "source": [
    "clas.tail()"
   ]
  },
  {
   "cell_type": "code",
   "execution_count": 326,
   "metadata": {},
   "outputs": [
    {
     "data": {
      "text/plain": [
       "(72, 91, 9801)"
      ]
     },
     "execution_count": 326,
     "metadata": {},
     "output_type": "execute_result"
    }
   ],
   "source": [
    "clas.user_id.nunique(), clas.user_name.nunique(), clas.subject_ids.nunique()   # Number of unique users and images = subjects"
   ]
  },
  {
   "cell_type": "markdown",
   "metadata": {},
   "source": [
    "User_id is only for logged in users, so we have around 20 users that were not logged in. Let's see how many labels correspond to those users."
   ]
  },
  {
   "cell_type": "code",
   "execution_count": 327,
   "metadata": {},
   "outputs": [
    {
     "data": {
      "text/plain": [
       "444"
      ]
     },
     "execution_count": 327,
     "metadata": {},
     "output_type": "execute_result"
    }
   ],
   "source": [
    "len(clas[clas.user_name.apply(lambda u: 'not-logged-in' in u)])"
   ]
  },
  {
   "cell_type": "markdown",
   "metadata": {},
   "source": [
    "So only, a small fraction of labels is from not-logged-in users. For ease of analysis, we should probably remove those."
   ]
  },
  {
   "cell_type": "code",
   "execution_count": 328,
   "metadata": {},
   "outputs": [
    {
     "data": {
      "text/plain": [
       "array([8072, 8073, 8104, 8109, 8414])"
      ]
     },
     "execution_count": 328,
     "metadata": {},
     "output_type": "execute_result"
    }
   ],
   "source": [
    "clas.workflow_id.unique()"
   ]
  },
  {
   "cell_type": "code",
   "execution_count": 329,
   "metadata": {},
   "outputs": [
    {
     "data": {
      "text/plain": [
       "array(['Practice', 'Full dataset', 'Tutorial Gold standard',\n",
       "       'Tutorial Random', 'Validation'], dtype=object)"
      ]
     },
     "execution_count": 329,
     "metadata": {},
     "output_type": "execute_result"
    }
   ],
   "source": [
    "clas.workflow_name.unique()"
   ]
  },
  {
   "cell_type": "markdown",
   "metadata": {},
   "source": [
    "We really only care about the `Practice` and `Full dataset` workflows."
   ]
  },
  {
   "cell_type": "code",
   "execution_count": 330,
   "metadata": {},
   "outputs": [
    {
     "data": {
      "text/plain": [
       "array([19.13, 24.13])"
      ]
     },
     "execution_count": 330,
     "metadata": {},
     "output_type": "execute_result"
    }
   ],
   "source": [
    "clas[clas.workflow_name == 'Practice'].workflow_version.unique()"
   ]
  },
  {
   "cell_type": "code",
   "execution_count": 331,
   "metadata": {},
   "outputs": [
    {
     "data": {
      "text/plain": [
       "array([13.11])"
      ]
     },
     "execution_count": 331,
     "metadata": {},
     "output_type": "execute_result"
    }
   ],
   "source": [
    "clas[clas.workflow_name == 'Full dataset'].workflow_version.unique()"
   ]
  },
  {
   "cell_type": "markdown",
   "metadata": {},
   "source": [
    "Let's now also convert the `created_at` column to an actual datetime object that we can work with."
   ]
  },
  {
   "cell_type": "code",
   "execution_count": 332,
   "metadata": {},
   "outputs": [],
   "source": [
    "clas['datetime'] = pd.to_datetime(clas['created_at'])"
   ]
  },
  {
   "cell_type": "code",
   "execution_count": 333,
   "metadata": {},
   "outputs": [
    {
     "data": {
      "image/png": "[encoded data removed]",
      "text/plain": [
       "<Figure size 432x288 with 1 Axes>"
      ]
     },
     "metadata": {},
     "output_type": "display_data"
    }
   ],
   "source": [
    "clas[clas.workflow_name == 'Practice'].datetime.hist()\n",
    "plt.xticks(rotation=90);"
   ]
  },
  {
   "cell_type": "code",
   "execution_count": 334,
   "metadata": {},
   "outputs": [
    {
     "data": {
      "image/png": "[encoded data removed]",
      "text/plain": [
       "<Figure size 432x288 with 1 Axes>"
      ]
     },
     "metadata": {},
     "output_type": "display_data"
    }
   ],
   "source": [
    "clas[clas.workflow_name == 'Full dataset'].datetime.hist()\n",
    "plt.xticks(rotation=90);"
   ]
  },
  {
   "cell_type": "markdown",
   "metadata": {},
   "source": [
    "Here we can see the two spikes associated with the MPI and LMD labeling days. The LMD day seems to have a larger \"tail\"."
   ]
  },
  {
   "cell_type": "markdown",
   "metadata": {},
   "source": [
    "## Add subject information"
   ]
  },
  {
   "cell_type": "code",
   "execution_count": 335,
   "metadata": {},
   "outputs": [],
   "source": [
    "subj = load_classifications(subj_fn)"
   ]
  },
  {
   "cell_type": "code",
   "execution_count": 336,
   "metadata": {},
   "outputs": [
    {
     "data": {
      "text/plain": [
       "10179"
      ]
     },
     "execution_count": 336,
     "metadata": {},
     "output_type": "execute_result"
    }
   ],
   "source": [
    "len(subj)"
   ]
  },
  {
   "cell_type": "code",
   "execution_count": 337,
   "metadata": {},
   "outputs": [
    {
     "data": {
      "text/html": [
       "<div>\n",
       "<style scoped>\n",
       "    .dataframe tbody tr th:only-of-type {\n",
       "        vertical-align: middle;\n",
       "    }\n",
       "\n",
       "    .dataframe tbody tr th {\n",
       "        vertical-align: top;\n",
       "    }\n",
       "\n",
       "    .dataframe thead th {\n",
       "        text-align: right;\n",
       "    }\n",
       "</style>\n",
       "<table border=\"1\" class=\"dataframe\">\n",
       "  <thead>\n",
       "    <tr style=\"text-align: right;\">\n",
       "      <th></th>\n",
       "      <th>subject_id</th>\n",
       "      <th>project_id</th>\n",
       "      <th>workflow_id</th>\n",
       "      <th>subject_set_id</th>\n",
       "      <th>metadata</th>\n",
       "      <th>locations</th>\n",
       "      <th>classifications_count</th>\n",
       "      <th>retired_at</th>\n",
       "      <th>retirement_reason</th>\n",
       "      <th>created_at</th>\n",
       "      <th>updated_at</th>\n",
       "    </tr>\n",
       "  </thead>\n",
       "  <tbody>\n",
       "    <tr>\n",
       "      <th>10174</th>\n",
       "      <td>27164038</td>\n",
       "      <td>7699</td>\n",
       "      <td>8073.0</td>\n",
       "      <td>60835</td>\n",
       "      <td>{'fn': '/project/meteo/work/S.Rasp/cloud-class...</td>\n",
       "      <td>{\"0\":\"https://panoptes-uploads.zooniverse.org/...</td>\n",
       "      <td>4</td>\n",
       "      <td>2018-11-29 14:26:48 UTC</td>\n",
       "      <td>classification_count</td>\n",
       "      <td>2018-10-29 12:15:26 UTC</td>\n",
       "      <td>2018-10-29 12:15:26 UTC</td>\n",
       "    </tr>\n",
       "    <tr>\n",
       "      <th>10175</th>\n",
       "      <td>27164039</td>\n",
       "      <td>7699</td>\n",
       "      <td>8073.0</td>\n",
       "      <td>60835</td>\n",
       "      <td>{'fn': '/project/meteo/work/S.Rasp/cloud-class...</td>\n",
       "      <td>{\"0\":\"https://panoptes-uploads.zooniverse.org/...</td>\n",
       "      <td>4</td>\n",
       "      <td>2018-11-30 13:26:41 UTC</td>\n",
       "      <td>classification_count</td>\n",
       "      <td>2018-10-29 12:15:27 UTC</td>\n",
       "      <td>2018-10-29 12:15:27 UTC</td>\n",
       "    </tr>\n",
       "    <tr>\n",
       "      <th>10176</th>\n",
       "      <td>27164040</td>\n",
       "      <td>7699</td>\n",
       "      <td>8073.0</td>\n",
       "      <td>60835</td>\n",
       "      <td>{'fn': '/project/meteo/work/S.Rasp/cloud-class...</td>\n",
       "      <td>{\"0\":\"https://panoptes-uploads.zooniverse.org/...</td>\n",
       "      <td>4</td>\n",
       "      <td>2018-12-30 13:00:38 UTC</td>\n",
       "      <td>classification_count</td>\n",
       "      <td>2018-10-29 12:15:28 UTC</td>\n",
       "      <td>2018-10-29 12:15:28 UTC</td>\n",
       "    </tr>\n",
       "    <tr>\n",
       "      <th>10177</th>\n",
       "      <td>27164041</td>\n",
       "      <td>7699</td>\n",
       "      <td>8073.0</td>\n",
       "      <td>60835</td>\n",
       "      <td>{'fn': '/project/meteo/work/S.Rasp/cloud-class...</td>\n",
       "      <td>{\"0\":\"https://panoptes-uploads.zooniverse.org/...</td>\n",
       "      <td>4</td>\n",
       "      <td>2018-12-01 22:35:27 UTC</td>\n",
       "      <td>classification_count</td>\n",
       "      <td>2018-10-29 12:15:31 UTC</td>\n",
       "      <td>2018-10-29 12:15:31 UTC</td>\n",
       "    </tr>\n",
       "    <tr>\n",
       "      <th>10178</th>\n",
       "      <td>27164042</td>\n",
       "      <td>7699</td>\n",
       "      <td>8073.0</td>\n",
       "      <td>60835</td>\n",
       "      <td>{'fn': '/project/meteo/work/S.Rasp/cloud-class...</td>\n",
       "      <td>{\"0\":\"https://panoptes-uploads.zooniverse.org/...</td>\n",
       "      <td>3</td>\n",
       "      <td>NaN</td>\n",
       "      <td>NaN</td>\n",
       "      <td>2018-10-29 12:15:33 UTC</td>\n",
       "      <td>2018-10-29 12:15:33 UTC</td>\n",
       "    </tr>\n",
       "  </tbody>\n",
       "</table>\n",
       "</div>"
      ],
      "text/plain": [
       "       subject_id  project_id  workflow_id  subject_set_id  \\\n",
       "10174    27164038        7699       8073.0           60835   \n",
       "10175    27164039        7699       8073.0           60835   \n",
       "10176    27164040        7699       8073.0           60835   \n",
       "10177    27164041        7699       8073.0           60835   \n",
       "10178    27164042        7699       8073.0           60835   \n",
       "\n",
       "                                                metadata  \\\n",
       "10174  {'fn': '/project/meteo/work/S.Rasp/cloud-class...   \n",
       "10175  {'fn': '/project/meteo/work/S.Rasp/cloud-class...   \n",
       "10176  {'fn': '/project/meteo/work/S.Rasp/cloud-class...   \n",
       "10177  {'fn': '/project/meteo/work/S.Rasp/cloud-class...   \n",
       "10178  {'fn': '/project/meteo/work/S.Rasp/cloud-class...   \n",
       "\n",
       "                                               locations  \\\n",
       "10174  {\"0\":\"https://panoptes-uploads.zooniverse.org/...   \n",
       "10175  {\"0\":\"https://panoptes-uploads.zooniverse.org/...   \n",
       "10176  {\"0\":\"https://panoptes-uploads.zooniverse.org/...   \n",
       "10177  {\"0\":\"https://panoptes-uploads.zooniverse.org/...   \n",
       "10178  {\"0\":\"https://panoptes-uploads.zooniverse.org/...   \n",
       "\n",
       "       classifications_count               retired_at     retirement_reason  \\\n",
       "10174                      4  2018-11-29 14:26:48 UTC  classification_count   \n",
       "10175                      4  2018-11-30 13:26:41 UTC  classification_count   \n",
       "10176                      4  2018-12-30 13:00:38 UTC  classification_count   \n",
       "10177                      4  2018-12-01 22:35:27 UTC  classification_count   \n",
       "10178                      3                      NaN                   NaN   \n",
       "\n",
       "                    created_at               updated_at  \n",
       "10174  2018-10-29 12:15:26 UTC  2018-10-29 12:15:26 UTC  \n",
       "10175  2018-10-29 12:15:27 UTC  2018-10-29 12:15:27 UTC  \n",
       "10176  2018-10-29 12:15:28 UTC  2018-10-29 12:15:28 UTC  \n",
       "10177  2018-10-29 12:15:31 UTC  2018-10-29 12:15:31 UTC  \n",
       "10178  2018-10-29 12:15:33 UTC  2018-10-29 12:15:33 UTC  "
      ]
     },
     "execution_count": 337,
     "metadata": {},
     "output_type": "execute_result"
    }
   ],
   "source": [
    "subj.tail()"
   ]
  },
  {
   "cell_type": "code",
   "execution_count": 339,
   "metadata": {},
   "outputs": [],
   "source": [
    "subj.set_index('subject_id', inplace=True)"
   ]
  },
  {
   "cell_type": "code",
   "execution_count": 350,
   "metadata": {},
   "outputs": [
    {
     "data": {
      "text/html": [
       "<div>\n",
       "<style scoped>\n",
       "    .dataframe tbody tr th:only-of-type {\n",
       "        vertical-align: middle;\n",
       "    }\n",
       "\n",
       "    .dataframe tbody tr th {\n",
       "        vertical-align: top;\n",
       "    }\n",
       "\n",
       "    .dataframe thead th {\n",
       "        text-align: right;\n",
       "    }\n",
       "</style>\n",
       "<table border=\"1\" class=\"dataframe\">\n",
       "  <thead>\n",
       "    <tr style=\"text-align: right;\">\n",
       "      <th></th>\n",
       "      <th>subject_id</th>\n",
       "      <th>project_id</th>\n",
       "      <th>workflow_id</th>\n",
       "      <th>subject_set_id</th>\n",
       "      <th>metadata</th>\n",
       "      <th>locations</th>\n",
       "      <th>classifications_count</th>\n",
       "      <th>retired_at</th>\n",
       "      <th>retirement_reason</th>\n",
       "      <th>created_at</th>\n",
       "      <th>updated_at</th>\n",
       "    </tr>\n",
       "  </thead>\n",
       "  <tbody>\n",
       "    <tr>\n",
       "      <th>0</th>\n",
       "      <td>26976345</td>\n",
       "      <td>7699</td>\n",
       "      <td>NaN</td>\n",
       "      <td>60713</td>\n",
       "      <td>{'fn': '/project/meteo/work/S.Rasp/cloud-class...</td>\n",
       "      <td>{\"0\":\"https://panoptes-uploads.zooniverse.org/...</td>\n",
       "      <td>0</td>\n",
       "      <td>NaN</td>\n",
       "      <td>NaN</td>\n",
       "      <td>2018-10-24 16:42:28 UTC</td>\n",
       "      <td>2018-10-24 16:42:28 UTC</td>\n",
       "    </tr>\n",
       "    <tr>\n",
       "      <th>1</th>\n",
       "      <td>26976346</td>\n",
       "      <td>7699</td>\n",
       "      <td>NaN</td>\n",
       "      <td>60713</td>\n",
       "      <td>{'fn': '/project/meteo/work/S.Rasp/cloud-class...</td>\n",
       "      <td>{\"0\":\"https://panoptes-uploads.zooniverse.org/...</td>\n",
       "      <td>0</td>\n",
       "      <td>NaN</td>\n",
       "      <td>NaN</td>\n",
       "      <td>2018-10-24 16:42:29 UTC</td>\n",
       "      <td>2018-10-24 16:42:29 UTC</td>\n",
       "    </tr>\n",
       "    <tr>\n",
       "      <th>2</th>\n",
       "      <td>26976347</td>\n",
       "      <td>7699</td>\n",
       "      <td>NaN</td>\n",
       "      <td>60713</td>\n",
       "      <td>{'fn': '/project/meteo/work/S.Rasp/cloud-class...</td>\n",
       "      <td>{\"0\":\"https://panoptes-uploads.zooniverse.org/...</td>\n",
       "      <td>0</td>\n",
       "      <td>NaN</td>\n",
       "      <td>NaN</td>\n",
       "      <td>2018-10-24 16:42:31 UTC</td>\n",
       "      <td>2018-10-24 16:42:31 UTC</td>\n",
       "    </tr>\n",
       "    <tr>\n",
       "      <th>3</th>\n",
       "      <td>26976348</td>\n",
       "      <td>7699</td>\n",
       "      <td>NaN</td>\n",
       "      <td>60713</td>\n",
       "      <td>{'fn': '/project/meteo/work/S.Rasp/cloud-class...</td>\n",
       "      <td>{\"0\":\"https://panoptes-uploads.zooniverse.org/...</td>\n",
       "      <td>0</td>\n",
       "      <td>NaN</td>\n",
       "      <td>NaN</td>\n",
       "      <td>2018-10-24 16:42:32 UTC</td>\n",
       "      <td>2018-10-24 16:42:32 UTC</td>\n",
       "    </tr>\n",
       "    <tr>\n",
       "      <th>4</th>\n",
       "      <td>26976349</td>\n",
       "      <td>7699</td>\n",
       "      <td>NaN</td>\n",
       "      <td>60713</td>\n",
       "      <td>{'fn': '/project/meteo/work/S.Rasp/cloud-class...</td>\n",
       "      <td>{\"0\":\"https://panoptes-uploads.zooniverse.org/...</td>\n",
       "      <td>0</td>\n",
       "      <td>NaN</td>\n",
       "      <td>NaN</td>\n",
       "      <td>2018-10-24 16:42:33 UTC</td>\n",
       "      <td>2018-10-24 16:42:33 UTC</td>\n",
       "    </tr>\n",
       "  </tbody>\n",
       "</table>\n",
       "</div>"
      ],
      "text/plain": [
       "   subject_id  project_id  workflow_id  subject_set_id  \\\n",
       "0    26976345        7699          NaN           60713   \n",
       "1    26976346        7699          NaN           60713   \n",
       "2    26976347        7699          NaN           60713   \n",
       "3    26976348        7699          NaN           60713   \n",
       "4    26976349        7699          NaN           60713   \n",
       "\n",
       "                                            metadata  \\\n",
       "0  {'fn': '/project/meteo/work/S.Rasp/cloud-class...   \n",
       "1  {'fn': '/project/meteo/work/S.Rasp/cloud-class...   \n",
       "2  {'fn': '/project/meteo/work/S.Rasp/cloud-class...   \n",
       "3  {'fn': '/project/meteo/work/S.Rasp/cloud-class...   \n",
       "4  {'fn': '/project/meteo/work/S.Rasp/cloud-class...   \n",
       "\n",
       "                                           locations  classifications_count  \\\n",
       "0  {\"0\":\"https://panoptes-uploads.zooniverse.org/...                      0   \n",
       "1  {\"0\":\"https://panoptes-uploads.zooniverse.org/...                      0   \n",
       "2  {\"0\":\"https://panoptes-uploads.zooniverse.org/...                      0   \n",
       "3  {\"0\":\"https://panoptes-uploads.zooniverse.org/...                      0   \n",
       "4  {\"0\":\"https://panoptes-uploads.zooniverse.org/...                      0   \n",
       "\n",
       "  retired_at retirement_reason               created_at  \\\n",
       "0        NaN               NaN  2018-10-24 16:42:28 UTC   \n",
       "1        NaN               NaN  2018-10-24 16:42:29 UTC   \n",
       "2        NaN               NaN  2018-10-24 16:42:31 UTC   \n",
       "3        NaN               NaN  2018-10-24 16:42:32 UTC   \n",
       "4        NaN               NaN  2018-10-24 16:42:33 UTC   \n",
       "\n",
       "                updated_at  \n",
       "0  2018-10-24 16:42:28 UTC  \n",
       "1  2018-10-24 16:42:29 UTC  \n",
       "2  2018-10-24 16:42:31 UTC  \n",
       "3  2018-10-24 16:42:32 UTC  \n",
       "4  2018-10-24 16:42:33 UTC  "
      ]
     },
     "execution_count": 350,
     "metadata": {},
     "output_type": "execute_result"
    }
   ],
   "source": [
    "subj.head()"
   ]
  },
  {
   "cell_type": "code",
   "execution_count": 341,
   "metadata": {},
   "outputs": [
    {
     "data": {
      "text/html": [
       "<div>\n",
       "<style scoped>\n",
       "    .dataframe tbody tr th:only-of-type {\n",
       "        vertical-align: middle;\n",
       "    }\n",
       "\n",
       "    .dataframe tbody tr th {\n",
       "        vertical-align: top;\n",
       "    }\n",
       "\n",
       "    .dataframe thead th {\n",
       "        text-align: right;\n",
       "    }\n",
       "</style>\n",
       "<table border=\"1\" class=\"dataframe\">\n",
       "  <thead>\n",
       "    <tr style=\"text-align: right;\">\n",
       "      <th></th>\n",
       "      <th>classification_id</th>\n",
       "      <th>user_name</th>\n",
       "      <th>user_id</th>\n",
       "      <th>user_ip</th>\n",
       "      <th>workflow_id</th>\n",
       "      <th>workflow_name</th>\n",
       "      <th>workflow_version</th>\n",
       "      <th>created_at</th>\n",
       "      <th>gold_standard</th>\n",
       "      <th>expert</th>\n",
       "      <th>metadata</th>\n",
       "      <th>annotations</th>\n",
       "      <th>subject_data</th>\n",
       "      <th>subject_ids</th>\n",
       "      <th>datetime</th>\n",
       "    </tr>\n",
       "  </thead>\n",
       "  <tbody>\n",
       "    <tr>\n",
       "      <th>13</th>\n",
       "      <td>128932300</td>\n",
       "      <td>raspstephan</td>\n",
       "      <td>1814911.0</td>\n",
       "      <td>ece34b7062ff27190425</td>\n",
       "      <td>8073</td>\n",
       "      <td>Full dataset</td>\n",
       "      <td>13.11</td>\n",
       "      <td>2018-10-28 10:00:31 UTC</td>\n",
       "      <td>NaN</td>\n",
       "      <td>NaN</td>\n",
       "      <td>{'source': 'api', 'session': '72e7236d3736b33e...</td>\n",
       "      <td>{'task': 'T0', 'task_label': 'Draw bounding bo...</td>\n",
       "      <td>{'26976410': {'retired': None, 'fn': '/project...</td>\n",
       "      <td>26976410</td>\n",
       "      <td>2018-10-28 10:00:31</td>\n",
       "    </tr>\n",
       "  </tbody>\n",
       "</table>\n",
       "</div>"
      ],
      "text/plain": [
       "    classification_id    user_name    user_id               user_ip  \\\n",
       "13          128932300  raspstephan  1814911.0  ece34b7062ff27190425   \n",
       "\n",
       "    workflow_id workflow_name  workflow_version               created_at  \\\n",
       "13         8073  Full dataset             13.11  2018-10-28 10:00:31 UTC   \n",
       "\n",
       "    gold_standard  expert                                           metadata  \\\n",
       "13            NaN     NaN  {'source': 'api', 'session': '72e7236d3736b33e...   \n",
       "\n",
       "                                          annotations  \\\n",
       "13  {'task': 'T0', 'task_label': 'Draw bounding bo...   \n",
       "\n",
       "                                         subject_data  subject_ids  \\\n",
       "13  {'26976410': {'retired': None, 'fn': '/project...     26976410   \n",
       "\n",
       "              datetime  \n",
       "13 2018-10-28 10:00:31  "
      ]
     },
     "execution_count": 341,
     "metadata": {},
     "output_type": "execute_result"
    }
   ],
   "source": [
    "clas[clas.subject_ids == 26976410]"
   ]
  },
  {
   "cell_type": "code",
   "execution_count": 342,
   "metadata": {},
   "outputs": [],
   "source": [
    "clas['subject_set_id'] = clas.subject_ids.apply(\n",
    "    lambda i: subj.loc[i].subject_set_id if i in list(subj.index) else np.nan) "
   ]
  },
  {
   "cell_type": "markdown",
   "metadata": {},
   "source": [
    "The first row is still from a now deleted dataset, so let's remove that!"
   ]
  },
  {
   "cell_type": "code",
   "execution_count": 343,
   "metadata": {},
   "outputs": [],
   "source": [
    "clas.dropna(subset=['subject_set_id'], inplace=True)"
   ]
  },
  {
   "cell_type": "code",
   "execution_count": 351,
   "metadata": {},
   "outputs": [],
   "source": [
    "#EXPORT\n",
    "def add_subject_set_id_to_clas_df(clas_df, subj_df):\n",
    "    s = subj_df.set_index('subject_id')\n",
    "    # HARDCODED: Only using the actual datasets, not practice, etc.\n",
    "    s = s[s.subject_set_id.apply(lambda s: s in subj_id2name.keys())]\n",
    "    clas_df['subject_set_id'] = clas_df.subject_ids.apply(\n",
    "        lambda i: s.loc[i].subject_set_id if i in list(s.index) else np.nan)\n",
    "    clas_df.dropna(subset=['subject_set_id'], inplace=True)\n",
    "    return clas_df"
   ]
  },
  {
   "cell_type": "code",
   "execution_count": 345,
   "metadata": {},
   "outputs": [],
   "source": [
    "subj = load_classifications(subj_fn)"
   ]
  },
  {
   "cell_type": "code",
   "execution_count": 347,
   "metadata": {},
   "outputs": [
    {
     "name": "stdout",
     "output_type": "stream",
     "text": [
      "CPU times: user 18.6 s, sys: 0 ns, total: 18.6 s\n",
      "Wall time: 18.6 s\n"
     ]
    }
   ],
   "source": [
    "%time clas = add_subject_set_id_to_clas_df(clas, subj)"
   ]
  },
  {
   "cell_type": "markdown",
   "metadata": {},
   "source": [
    "## Splitting the dataset\n",
    "\n",
    "To work with the dataset, we would like to have easy ways of splitting the data and removing outliers.\n",
    "\n",
    "First up, we can throw out all not-logged-in users.\n",
    "\n",
    "Then, we want to split the practice and full dataset workflows, and throw out the 19.13 workflow for the practice dataset which was not live but just for testing. \n",
    "\n",
    "Finally, we can split the MPI and LMD datasets by time.\n",
    "\n",
    "At the end we can also write a function that does all this in one step for use in other notebooks."
   ]
  },
  {
   "cell_type": "code",
   "execution_count": null,
   "metadata": {},
   "outputs": [],
   "source": [
    "clas_drop = clas[clas.user_name.apply(lambda u: 'not-logged-in' not in u)]"
   ]
  },
  {
   "cell_type": "code",
   "execution_count": null,
   "metadata": {},
   "outputs": [],
   "source": [
    "len(clas_drop)"
   ]
  },
  {
   "cell_type": "code",
   "execution_count": null,
   "metadata": {},
   "outputs": [],
   "source": [
    "clas_full = clas_drop[clas_drop.workflow_name == 'Full dataset']\n",
    "clas_prac = clas_drop[(clas_drop.workflow_name == 'Practice') & (clas_drop.workflow_version == 24.13)]"
   ]
  },
  {
   "cell_type": "code",
   "execution_count": 65,
   "metadata": {},
   "outputs": [
    {
     "data": {
      "text/plain": [
       "(30311, 3015)"
      ]
     },
     "execution_count": 65,
     "metadata": {},
     "output_type": "execute_result"
    }
   ],
   "source": [
    "len(clas_full), len(clas_prac)"
   ]
  },
  {
   "cell_type": "code",
   "execution_count": 71,
   "metadata": {},
   "outputs": [],
   "source": [
    "split_date = np.datetime64('2018-11-28')"
   ]
  },
  {
   "cell_type": "code",
   "execution_count": 73,
   "metadata": {},
   "outputs": [],
   "source": [
    "clas_full_MPI = clas_full[clas_full.datetime.dt.date < split_date]\n",
    "clas_full_LMD = clas_full[clas_full.datetime.dt.date > split_date]"
   ]
  },
  {
   "cell_type": "code",
   "execution_count": 74,
   "metadata": {},
   "outputs": [
    {
     "data": {
      "text/plain": [
       "(19898, 10410)"
      ]
     },
     "execution_count": 74,
     "metadata": {},
     "output_type": "execute_result"
    }
   ],
   "source": [
    "len(clas_full_MPI), len(clas_full_LMD)"
   ]
  },
  {
   "cell_type": "code",
   "execution_count": 210,
   "metadata": {},
   "outputs": [],
   "source": [
    "#EXPORT\n",
    "def split_classification_df(raw_df, workflow_name=None, workflow_version=None, date_range=None, drop_nli=False):\n",
    "    \"\"\"\n",
    "    Takes as input the raw classification dataframe that comes out of parse_classifications().\n",
    "    Adds a datetime column. If not None, returns only rows with workflow_name, workflow_version.\n",
    "    Optionally, returns only labels in a certain date range. Dates must be in string format 'yyyy-mm-dd'.\n",
    "    Optionally, drops all labels of users that were not-logged-in (nli).\n",
    "    \"\"\"\n",
    "    df = raw_df.copy()\n",
    "    df['datetime'] = pd.to_datetime(df['created_at'])\n",
    "    if workflow_name is not None:\n",
    "        df = df[df.workflow_name == workflow_name]\n",
    "    if workflow_version is not None:\n",
    "        df = df[df.workflow_version == workflow_version]\n",
    "    if date_range is not None:\n",
    "        df = df[(df.datetime.dt.date > np.datetime64(date_range[0])) & \n",
    "                (df.datetime.dt.date < np.datetime64(date_range[1]))]\n",
    "    if drop_nli:\n",
    "        df = df[df.user_name.apply(lambda u: 'not-logged-in' not in u)]\n",
    "    return df"
   ]
  },
  {
   "cell_type": "code",
   "execution_count": 94,
   "metadata": {
    "scrolled": true
   },
   "outputs": [
    {
     "name": "stdout",
     "output_type": "stream",
     "text": [
      "CPU times: user 4.47 s, sys: 0 ns, total: 4.47 s\n",
      "Wall time: 4.47 s\n"
     ]
    }
   ],
   "source": [
    "%%time\n",
    "clas_full_LMD_test = split_classification_df(\n",
    "    clas, \n",
    "    workflow_name='Full dataset', \n",
    "    date_range=('2018-11-28', '2019-01-01'),\n",
    "    drop_nli=True\n",
    ")"
   ]
  },
  {
   "cell_type": "code",
   "execution_count": 95,
   "metadata": {},
   "outputs": [
    {
     "data": {
      "text/plain": [
       "10410"
      ]
     },
     "execution_count": 95,
     "metadata": {},
     "output_type": "execute_result"
    }
   ],
   "source": [
    "len(clas_full_LMD_test)"
   ]
  },
  {
   "cell_type": "markdown",
   "metadata": {},
   "source": [
    "This function is now also in pyclouds.zooniverse"
   ]
  },
  {
   "cell_type": "markdown",
   "metadata": {},
   "source": [
    "## Extracting the label information\n",
    "\n",
    "The label information is hidden in the `annotations` column, which is a dictionary. There can be more than one annotation/label for each user and image."
   ]
  },
  {
   "cell_type": "code",
   "execution_count": 118,
   "metadata": {},
   "outputs": [
    {
     "data": {
      "text/plain": [
       "{'source': 'api',\n",
       " 'session': '67f9a58fcd31b0313ab8dde7d0ded6a74e2732ab43444073c767a66ba164960a',\n",
       " 'viewport': {'width': 1462, 'height': 1266},\n",
       " 'started_at': '2018-12-14T16:10:12.234Z',\n",
       " 'user_agent': 'Mozilla/5.0 (Macintosh; Intel Mac OS X 10.14; rv:63.0) Gecko/20100101 Firefox/63.0',\n",
       " 'utc_offset': '-3600',\n",
       " 'finished_at': '2018-12-14T16:10:26.570Z',\n",
       " 'live_project': True,\n",
       " 'interventions': {'opt_in': True, 'message': False},\n",
       " 'user_language': 'en',\n",
       " 'user_group_ids': [],\n",
       " 'subject_dimensions': [{'clientWidth': 956,\n",
       "   'clientHeight': 637,\n",
       "   'naturalWidth': 2100,\n",
       "   'naturalHeight': 1400}],\n",
       " 'workflow_translation_id': '7573'}"
      ]
     },
     "execution_count": 118,
     "metadata": {},
     "output_type": "execute_result"
    }
   ],
   "source": [
    "clas.metadata.iloc[-1]"
   ]
  },
  {
   "cell_type": "code",
   "execution_count": 102,
   "metadata": {},
   "outputs": [
    {
     "data": {
      "text/plain": [
       "{'task': 'T0',\n",
       " 'task_label': 'Draw bounding boxes around cloud regions',\n",
       " 'value': [{'x': 1059.060791015625,\n",
       "   'y': 254.72518920898438,\n",
       "   'tool': 1,\n",
       "   'frame': 0,\n",
       "   'width': 924.7423095703125,\n",
       "   'height': 542.5449523925781,\n",
       "   'details': [],\n",
       "   'tool_label': 'Flower'},\n",
       "  {'x': 327.6136474609375,\n",
       "   'y': 202.00827026367188,\n",
       "   'tool': 0,\n",
       "   'frame': 0,\n",
       "   'width': 610.6375122070312,\n",
       "   'height': 1140.0032043457031,\n",
       "   'details': [],\n",
       "   'tool_label': 'Sugar'}]}"
      ]
     },
     "execution_count": 102,
     "metadata": {},
     "output_type": "execute_result"
    }
   ],
   "source": [
    "clas.annotations.iloc[-1]"
   ]
  },
  {
   "cell_type": "markdown",
   "metadata": {},
   "source": [
    "To be able to handle the data well, we will now create a new DataFrame that contains one row per bounding box. This will then allow us more easily to handle the data later. In this process, we will also extract the coordinate data plus some more meta data we might need."
   ]
  },
  {
   "cell_type": "code",
   "execution_count": 153,
   "metadata": {},
   "outputs": [
    {
     "data": {
      "text/plain": [
       "49802"
      ]
     },
     "execution_count": 153,
     "metadata": {},
     "output_type": "execute_result"
    }
   ],
   "source": [
    "# We need to figure out first how many items we have in order to allocate the new DataFrame\n",
    "count = 0\n",
    "for i, row in clas.iterrows():\n",
    "    for anno in row.annotations['value']:\n",
    "        count += 1\n",
    "count"
   ]
  },
  {
   "cell_type": "code",
   "execution_count": 162,
   "metadata": {},
   "outputs": [],
   "source": [
    "annos = pd.DataFrame(\n",
    "    columns=list(clas.columns) + ['x', 'y', 'width', 'height', 'tool_label', 'started_at', 'finished_at'],\n",
    "    index=np.arange(count)\n",
    ")"
   ]
  },
  {
   "cell_type": "code",
   "execution_count": 163,
   "metadata": {},
   "outputs": [],
   "source": [
    "for i, row in clas_prac.iterrows():\n",
    "    j = 0\n",
    "    for anno in row.annotations['value']:\n",
    "        for c in clas.columns:\n",
    "            annos.iloc[j][c] = row[c]\n",
    "        for coord in ['x', 'y', 'width', 'height', 'tool_label']:\n",
    "            annos.iloc[j][coord] = anno[coord]\n",
    "        for meta in ['started_at', 'finished_at']:\n",
    "            annos.iloc[j][meta] = row.metadata[meta]\n",
    "        j += 1"
   ]
  },
  {
   "cell_type": "code",
   "execution_count": 164,
   "metadata": {},
   "outputs": [
    {
     "data": {
      "text/html": [
       "<div>\n",
       "<style scoped>\n",
       "    .dataframe tbody tr th:only-of-type {\n",
       "        vertical-align: middle;\n",
       "    }\n",
       "\n",
       "    .dataframe tbody tr th {\n",
       "        vertical-align: top;\n",
       "    }\n",
       "\n",
       "    .dataframe thead th {\n",
       "        text-align: right;\n",
       "    }\n",
       "</style>\n",
       "<table border=\"1\" class=\"dataframe\">\n",
       "  <thead>\n",
       "    <tr style=\"text-align: right;\">\n",
       "      <th></th>\n",
       "      <th>classification_id</th>\n",
       "      <th>user_name</th>\n",
       "      <th>user_id</th>\n",
       "      <th>user_ip</th>\n",
       "      <th>workflow_id</th>\n",
       "      <th>workflow_name</th>\n",
       "      <th>workflow_version</th>\n",
       "      <th>created_at</th>\n",
       "      <th>gold_standard</th>\n",
       "      <th>expert</th>\n",
       "      <th>...</th>\n",
       "      <th>subject_data</th>\n",
       "      <th>subject_ids</th>\n",
       "      <th>datetime</th>\n",
       "      <th>x</th>\n",
       "      <th>y</th>\n",
       "      <th>width</th>\n",
       "      <th>height</th>\n",
       "      <th>tool_label</th>\n",
       "      <th>started_at</th>\n",
       "      <th>finished_at</th>\n",
       "    </tr>\n",
       "  </thead>\n",
       "  <tbody>\n",
       "    <tr>\n",
       "      <th>0</th>\n",
       "      <td>134717413</td>\n",
       "      <td>raspstephan</td>\n",
       "      <td>1.81491e+06</td>\n",
       "      <td>08ce726fe14db3753a3a</td>\n",
       "      <td>8072</td>\n",
       "      <td>Practice</td>\n",
       "      <td>24.13</td>\n",
       "      <td>2018-12-05 16:28:26 UTC</td>\n",
       "      <td>NaN</td>\n",
       "      <td>NaN</td>\n",
       "      <td>...</td>\n",
       "      <td>{'27140443': {'retired': None, 'fn': '/project...</td>\n",
       "      <td>27140443</td>\n",
       "      <td>2018-12-05 16:28:26</td>\n",
       "      <td>593.934</td>\n",
       "      <td>183.632</td>\n",
       "      <td>1464.12</td>\n",
       "      <td>771.5</td>\n",
       "      <td>Fish</td>\n",
       "      <td>2018-12-05T16:27:54.218Z</td>\n",
       "      <td>2018-12-05T16:28:26.348Z</td>\n",
       "    </tr>\n",
       "    <tr>\n",
       "      <th>1</th>\n",
       "      <td>134315538</td>\n",
       "      <td>Octave.T</td>\n",
       "      <td>1.84892e+06</td>\n",
       "      <td>2ac8c22966cc5803ff03</td>\n",
       "      <td>8072</td>\n",
       "      <td>Practice</td>\n",
       "      <td>24.13</td>\n",
       "      <td>2018-12-02 19:13:11 UTC</td>\n",
       "      <td>NaN</td>\n",
       "      <td>NaN</td>\n",
       "      <td>...</td>\n",
       "      <td>{'27140443': {'retired': None, 'fn': '/project...</td>\n",
       "      <td>27140443</td>\n",
       "      <td>2018-12-02 19:13:11</td>\n",
       "      <td>42.0593</td>\n",
       "      <td>91.324</td>\n",
       "      <td>560.791</td>\n",
       "      <td>1237.69</td>\n",
       "      <td>Flower</td>\n",
       "      <td>2018-12-02T19:12:43.974Z</td>\n",
       "      <td>2018-12-02T19:13:10.990Z</td>\n",
       "    </tr>\n",
       "    <tr>\n",
       "      <th>2</th>\n",
       "      <td>134291826</td>\n",
       "      <td>Octave.T</td>\n",
       "      <td>1.84892e+06</td>\n",
       "      <td>620258a9fdcdbf5ffd60</td>\n",
       "      <td>8072</td>\n",
       "      <td>Practice</td>\n",
       "      <td>24.13</td>\n",
       "      <td>2018-12-02 14:44:18 UTC</td>\n",
       "      <td>NaN</td>\n",
       "      <td>NaN</td>\n",
       "      <td>...</td>\n",
       "      <td>{'27139670': {'retired': None, 'fn': '/project...</td>\n",
       "      <td>27139670</td>\n",
       "      <td>2018-12-02 14:44:18</td>\n",
       "      <td>746.135</td>\n",
       "      <td>657.055</td>\n",
       "      <td>573.143</td>\n",
       "      <td>269.278</td>\n",
       "      <td>Sugar</td>\n",
       "      <td>2018-12-02T14:43:22.889Z</td>\n",
       "      <td>2018-12-02T14:44:17.630Z</td>\n",
       "    </tr>\n",
       "    <tr>\n",
       "      <th>3</th>\n",
       "      <td>134291826</td>\n",
       "      <td>Octave.T</td>\n",
       "      <td>1.84892e+06</td>\n",
       "      <td>620258a9fdcdbf5ffd60</td>\n",
       "      <td>8072</td>\n",
       "      <td>Practice</td>\n",
       "      <td>24.13</td>\n",
       "      <td>2018-12-02 14:44:18 UTC</td>\n",
       "      <td>NaN</td>\n",
       "      <td>NaN</td>\n",
       "      <td>...</td>\n",
       "      <td>{'27139670': {'retired': None, 'fn': '/project...</td>\n",
       "      <td>27139670</td>\n",
       "      <td>2018-12-02 14:44:18</td>\n",
       "      <td>1351.39</td>\n",
       "      <td>647.174</td>\n",
       "      <td>743.603</td>\n",
       "      <td>261.867</td>\n",
       "      <td>Gravel</td>\n",
       "      <td>2018-12-02T14:43:22.889Z</td>\n",
       "      <td>2018-12-02T14:44:17.630Z</td>\n",
       "    </tr>\n",
       "    <tr>\n",
       "      <th>4</th>\n",
       "      <td>134131944</td>\n",
       "      <td>szantai</td>\n",
       "      <td>1.84802e+06</td>\n",
       "      <td>64fa4262a2ff763c7884</td>\n",
       "      <td>8072</td>\n",
       "      <td>Practice</td>\n",
       "      <td>24.13</td>\n",
       "      <td>2018-11-30 22:29:48 UTC</td>\n",
       "      <td>NaN</td>\n",
       "      <td>NaN</td>\n",
       "      <td>...</td>\n",
       "      <td>{'27140443': {'retired': None, 'fn': '/project...</td>\n",
       "      <td>27140443</td>\n",
       "      <td>2018-11-30 22:29:48</td>\n",
       "      <td>1448.07</td>\n",
       "      <td>19.8344</td>\n",
       "      <td>646.612</td>\n",
       "      <td>415.193</td>\n",
       "      <td>Gravel</td>\n",
       "      <td>2018-11-30T22:28:00.115Z</td>\n",
       "      <td>2018-11-30T22:29:48.472Z</td>\n",
       "    </tr>\n",
       "  </tbody>\n",
       "</table>\n",
       "<p>5 rows × 22 columns</p>\n",
       "</div>"
      ],
      "text/plain": [
       "  classification_id    user_name      user_id               user_ip  \\\n",
       "0         134717413  raspstephan  1.81491e+06  08ce726fe14db3753a3a   \n",
       "1         134315538     Octave.T  1.84892e+06  2ac8c22966cc5803ff03   \n",
       "2         134291826     Octave.T  1.84892e+06  620258a9fdcdbf5ffd60   \n",
       "3         134291826     Octave.T  1.84892e+06  620258a9fdcdbf5ffd60   \n",
       "4         134131944      szantai  1.84802e+06  64fa4262a2ff763c7884   \n",
       "\n",
       "  workflow_id workflow_name workflow_version               created_at  \\\n",
       "0        8072      Practice            24.13  2018-12-05 16:28:26 UTC   \n",
       "1        8072      Practice            24.13  2018-12-02 19:13:11 UTC   \n",
       "2        8072      Practice            24.13  2018-12-02 14:44:18 UTC   \n",
       "3        8072      Practice            24.13  2018-12-02 14:44:18 UTC   \n",
       "4        8072      Practice            24.13  2018-11-30 22:29:48 UTC   \n",
       "\n",
       "  gold_standard expert            ...             \\\n",
       "0           NaN    NaN            ...              \n",
       "1           NaN    NaN            ...              \n",
       "2           NaN    NaN            ...              \n",
       "3           NaN    NaN            ...              \n",
       "4           NaN    NaN            ...              \n",
       "\n",
       "                                        subject_data subject_ids  \\\n",
       "0  {'27140443': {'retired': None, 'fn': '/project...    27140443   \n",
       "1  {'27140443': {'retired': None, 'fn': '/project...    27140443   \n",
       "2  {'27139670': {'retired': None, 'fn': '/project...    27139670   \n",
       "3  {'27139670': {'retired': None, 'fn': '/project...    27139670   \n",
       "4  {'27140443': {'retired': None, 'fn': '/project...    27140443   \n",
       "\n",
       "              datetime        x        y    width   height tool_label  \\\n",
       "0  2018-12-05 16:28:26  593.934  183.632  1464.12    771.5       Fish   \n",
       "1  2018-12-02 19:13:11  42.0593   91.324  560.791  1237.69     Flower   \n",
       "2  2018-12-02 14:44:18  746.135  657.055  573.143  269.278      Sugar   \n",
       "3  2018-12-02 14:44:18  1351.39  647.174  743.603  261.867     Gravel   \n",
       "4  2018-11-30 22:29:48  1448.07  19.8344  646.612  415.193     Gravel   \n",
       "\n",
       "                 started_at               finished_at  \n",
       "0  2018-12-05T16:27:54.218Z  2018-12-05T16:28:26.348Z  \n",
       "1  2018-12-02T19:12:43.974Z  2018-12-02T19:13:10.990Z  \n",
       "2  2018-12-02T14:43:22.889Z  2018-12-02T14:44:17.630Z  \n",
       "3  2018-12-02T14:43:22.889Z  2018-12-02T14:44:17.630Z  \n",
       "4  2018-11-30T22:28:00.115Z  2018-11-30T22:29:48.472Z  \n",
       "\n",
       "[5 rows x 22 columns]"
      ]
     },
     "execution_count": 164,
     "metadata": {},
     "output_type": "execute_result"
    }
   ],
   "source": [
    "annos.head()"
   ]
  },
  {
   "cell_type": "code",
   "execution_count": 165,
   "metadata": {},
   "outputs": [
    {
     "data": {
      "text/html": [
       "<div>\n",
       "<style scoped>\n",
       "    .dataframe tbody tr th:only-of-type {\n",
       "        vertical-align: middle;\n",
       "    }\n",
       "\n",
       "    .dataframe tbody tr th {\n",
       "        vertical-align: top;\n",
       "    }\n",
       "\n",
       "    .dataframe thead th {\n",
       "        text-align: right;\n",
       "    }\n",
       "</style>\n",
       "<table border=\"1\" class=\"dataframe\">\n",
       "  <thead>\n",
       "    <tr style=\"text-align: right;\">\n",
       "      <th></th>\n",
       "      <th>classification_id</th>\n",
       "      <th>user_name</th>\n",
       "      <th>user_id</th>\n",
       "      <th>user_ip</th>\n",
       "      <th>workflow_id</th>\n",
       "      <th>workflow_name</th>\n",
       "      <th>workflow_version</th>\n",
       "      <th>created_at</th>\n",
       "      <th>gold_standard</th>\n",
       "      <th>expert</th>\n",
       "      <th>...</th>\n",
       "      <th>subject_data</th>\n",
       "      <th>subject_ids</th>\n",
       "      <th>datetime</th>\n",
       "      <th>x</th>\n",
       "      <th>y</th>\n",
       "      <th>width</th>\n",
       "      <th>height</th>\n",
       "      <th>tool_label</th>\n",
       "      <th>started_at</th>\n",
       "      <th>finished_at</th>\n",
       "    </tr>\n",
       "  </thead>\n",
       "  <tbody>\n",
       "    <tr>\n",
       "      <th>0</th>\n",
       "      <td>134717413</td>\n",
       "      <td>raspstephan</td>\n",
       "      <td>1.81491e+06</td>\n",
       "      <td>08ce726fe14db3753a3a</td>\n",
       "      <td>8072</td>\n",
       "      <td>Practice</td>\n",
       "      <td>24.13</td>\n",
       "      <td>2018-12-05 16:28:26 UTC</td>\n",
       "      <td>NaN</td>\n",
       "      <td>NaN</td>\n",
       "      <td>...</td>\n",
       "      <td>{'27140443': {'retired': None, 'fn': '/project...</td>\n",
       "      <td>27140443</td>\n",
       "      <td>2018-12-05 16:28:26</td>\n",
       "      <td>593.934</td>\n",
       "      <td>183.632</td>\n",
       "      <td>1464.12</td>\n",
       "      <td>771.5</td>\n",
       "      <td>Fish</td>\n",
       "      <td>2018-12-05T16:27:54.218Z</td>\n",
       "      <td>2018-12-05T16:28:26.348Z</td>\n",
       "    </tr>\n",
       "  </tbody>\n",
       "</table>\n",
       "<p>1 rows × 22 columns</p>\n",
       "</div>"
      ],
      "text/plain": [
       "  classification_id    user_name      user_id               user_ip  \\\n",
       "0         134717413  raspstephan  1.81491e+06  08ce726fe14db3753a3a   \n",
       "\n",
       "  workflow_id workflow_name workflow_version               created_at  \\\n",
       "0        8072      Practice            24.13  2018-12-05 16:28:26 UTC   \n",
       "\n",
       "  gold_standard expert            ...             \\\n",
       "0           NaN    NaN            ...              \n",
       "\n",
       "                                        subject_data subject_ids  \\\n",
       "0  {'27140443': {'retired': None, 'fn': '/project...    27140443   \n",
       "\n",
       "              datetime        x        y    width height tool_label  \\\n",
       "0  2018-12-05 16:28:26  593.934  183.632  1464.12  771.5       Fish   \n",
       "\n",
       "                 started_at               finished_at  \n",
       "0  2018-12-05T16:27:54.218Z  2018-12-05T16:28:26.348Z  \n",
       "\n",
       "[1 rows x 22 columns]"
      ]
     },
     "execution_count": 165,
     "metadata": {},
     "output_type": "execute_result"
    }
   ],
   "source": [
    "annos[(annos.subject_ids == 27140443) & (annos.user_name == 'raspstephan')]"
   ]
  },
  {
   "cell_type": "code",
   "execution_count": 208,
   "metadata": {},
   "outputs": [],
   "source": [
    "#EXPORT\n",
    "def convert_clas_to_annos_df(clas_df):\n",
    "    \"\"\"\n",
    "    Converts a classification pd.DataFrame parsed from the raw Zooniverse file to a pd.DataFrame\n",
    "    that has one row per bounding box. \n",
    "    Additionally, extracts coordinate and metadata information\n",
    "    \"\"\"\n",
    "    # We need to figure out first how many items we have in order to allocate the new DataFrame\n",
    "    count = 0\n",
    "    for i, row in clas_df.iterrows():\n",
    "        for anno in row.annotations['value']:\n",
    "            count += 1\n",
    "    # Allocate new dataframe\n",
    "    annos_df = pd.DataFrame(\n",
    "        columns=list(clas_df.columns) + ['x', 'y', 'width', 'height', 'tool_label', 'started_at', 'finished_at'],\n",
    "        index=np.arange(count)\n",
    "    )\n",
    "    # go through each annotation\n",
    "    j = 0\n",
    "    for i, row in clas_df.iterrows():\n",
    "        for anno in row.annotations['value']:\n",
    "            for c in clas_df.columns:\n",
    "                annos_df.iloc[j][c] = row[c]\n",
    "            for coord in ['x', 'y', 'width', 'height', 'tool_label']:\n",
    "                annos_df.iloc[j][coord] = anno[coord]\n",
    "            for meta in ['started_at', 'finished_at']:\n",
    "                annos_df.iloc[j][meta] = row.metadata[meta]\n",
    "            j += 1\n",
    "    # Convert start and finish times to datetime\n",
    "    for meta in ['started_at', 'finished_at']:\n",
    "        annos_df[meta] = pd.to_datetime(annos_df[meta])\n",
    "    return annos_df"
   ]
  },
  {
   "cell_type": "code",
   "execution_count": 209,
   "metadata": {},
   "outputs": [
    {
     "name": "stdout",
     "output_type": "stream",
     "text": [
      "CPU times: user 10 s, sys: 0 ns, total: 10 s\n",
      "Wall time: 10 s\n"
     ]
    }
   ],
   "source": [
    "%%time\n",
    "annos_prac = convert_clas_to_annos_df(clas_prac)"
   ]
  },
  {
   "cell_type": "code",
   "execution_count": 184,
   "metadata": {},
   "outputs": [
    {
     "data": {
      "text/html": [
       "<div>\n",
       "<style scoped>\n",
       "    .dataframe tbody tr th:only-of-type {\n",
       "        vertical-align: middle;\n",
       "    }\n",
       "\n",
       "    .dataframe tbody tr th {\n",
       "        vertical-align: top;\n",
       "    }\n",
       "\n",
       "    .dataframe thead th {\n",
       "        text-align: right;\n",
       "    }\n",
       "</style>\n",
       "<table border=\"1\" class=\"dataframe\">\n",
       "  <thead>\n",
       "    <tr style=\"text-align: right;\">\n",
       "      <th></th>\n",
       "      <th>classification_id</th>\n",
       "      <th>user_name</th>\n",
       "      <th>user_id</th>\n",
       "      <th>user_ip</th>\n",
       "      <th>workflow_id</th>\n",
       "      <th>workflow_name</th>\n",
       "      <th>workflow_version</th>\n",
       "      <th>created_at</th>\n",
       "      <th>gold_standard</th>\n",
       "      <th>expert</th>\n",
       "      <th>...</th>\n",
       "      <th>subject_data</th>\n",
       "      <th>subject_ids</th>\n",
       "      <th>datetime</th>\n",
       "      <th>x</th>\n",
       "      <th>y</th>\n",
       "      <th>width</th>\n",
       "      <th>height</th>\n",
       "      <th>tool_label</th>\n",
       "      <th>started_at</th>\n",
       "      <th>finished_at</th>\n",
       "    </tr>\n",
       "  </thead>\n",
       "  <tbody>\n",
       "    <tr>\n",
       "      <th>4582</th>\n",
       "      <td>134315477</td>\n",
       "      <td>Octave.T</td>\n",
       "      <td>1.84892e+06</td>\n",
       "      <td>2ac8c22966cc5803ff03</td>\n",
       "      <td>8072</td>\n",
       "      <td>Practice</td>\n",
       "      <td>24.13</td>\n",
       "      <td>2018-12-02 19:12:20 UTC</td>\n",
       "      <td>NaN</td>\n",
       "      <td>NaN</td>\n",
       "      <td>...</td>\n",
       "      <td>{'27140553': {'retired': None, 'fn': '/project...</td>\n",
       "      <td>27140553</td>\n",
       "      <td>2018-12-02 19:12:20</td>\n",
       "      <td>59.3524</td>\n",
       "      <td>27.0925</td>\n",
       "      <td>1178.4</td>\n",
       "      <td>795.483</td>\n",
       "      <td>Gravel</td>\n",
       "      <td>2018-12-02 19:11:53.686</td>\n",
       "      <td>2018-12-02 19:12:20.367</td>\n",
       "    </tr>\n",
       "    <tr>\n",
       "      <th>4583</th>\n",
       "      <td>134315508</td>\n",
       "      <td>Octave.T</td>\n",
       "      <td>1.84892e+06</td>\n",
       "      <td>2ac8c22966cc5803ff03</td>\n",
       "      <td>8072</td>\n",
       "      <td>Practice</td>\n",
       "      <td>24.13</td>\n",
       "      <td>2018-12-02 19:12:44 UTC</td>\n",
       "      <td>NaN</td>\n",
       "      <td>NaN</td>\n",
       "      <td>...</td>\n",
       "      <td>{'27139921': {'retired': None, 'fn': '/project...</td>\n",
       "      <td>27139921</td>\n",
       "      <td>2018-12-02 19:12:44</td>\n",
       "      <td>108.761</td>\n",
       "      <td>886.807</td>\n",
       "      <td>1991.18</td>\n",
       "      <td>511.381</td>\n",
       "      <td>Sugar</td>\n",
       "      <td>2018-12-02 19:12:20.436</td>\n",
       "      <td>2018-12-02 19:12:43.824</td>\n",
       "    </tr>\n",
       "    <tr>\n",
       "      <th>4584</th>\n",
       "      <td>134315538</td>\n",
       "      <td>Octave.T</td>\n",
       "      <td>1.84892e+06</td>\n",
       "      <td>2ac8c22966cc5803ff03</td>\n",
       "      <td>8072</td>\n",
       "      <td>Practice</td>\n",
       "      <td>24.13</td>\n",
       "      <td>2018-12-02 19:13:11 UTC</td>\n",
       "      <td>NaN</td>\n",
       "      <td>NaN</td>\n",
       "      <td>...</td>\n",
       "      <td>{'27140443': {'retired': None, 'fn': '/project...</td>\n",
       "      <td>27140443</td>\n",
       "      <td>2018-12-02 19:13:11</td>\n",
       "      <td>610.261</td>\n",
       "      <td>9.79941</td>\n",
       "      <td>1482.27</td>\n",
       "      <td>864.655</td>\n",
       "      <td>Fish</td>\n",
       "      <td>2018-12-02 19:12:43.974</td>\n",
       "      <td>2018-12-02 19:13:10.990</td>\n",
       "    </tr>\n",
       "    <tr>\n",
       "      <th>4585</th>\n",
       "      <td>134315538</td>\n",
       "      <td>Octave.T</td>\n",
       "      <td>1.84892e+06</td>\n",
       "      <td>2ac8c22966cc5803ff03</td>\n",
       "      <td>8072</td>\n",
       "      <td>Practice</td>\n",
       "      <td>24.13</td>\n",
       "      <td>2018-12-02 19:13:11 UTC</td>\n",
       "      <td>NaN</td>\n",
       "      <td>NaN</td>\n",
       "      <td>...</td>\n",
       "      <td>{'27140443': {'retired': None, 'fn': '/project...</td>\n",
       "      <td>27140443</td>\n",
       "      <td>2018-12-02 19:13:11</td>\n",
       "      <td>42.0593</td>\n",
       "      <td>91.324</td>\n",
       "      <td>560.791</td>\n",
       "      <td>1237.69</td>\n",
       "      <td>Flower</td>\n",
       "      <td>2018-12-02 19:12:43.974</td>\n",
       "      <td>2018-12-02 19:13:10.990</td>\n",
       "    </tr>\n",
       "    <tr>\n",
       "      <th>4586</th>\n",
       "      <td>134717413</td>\n",
       "      <td>raspstephan</td>\n",
       "      <td>1.81491e+06</td>\n",
       "      <td>08ce726fe14db3753a3a</td>\n",
       "      <td>8072</td>\n",
       "      <td>Practice</td>\n",
       "      <td>24.13</td>\n",
       "      <td>2018-12-05 16:28:26 UTC</td>\n",
       "      <td>NaN</td>\n",
       "      <td>NaN</td>\n",
       "      <td>...</td>\n",
       "      <td>{'27140443': {'retired': None, 'fn': '/project...</td>\n",
       "      <td>27140443</td>\n",
       "      <td>2018-12-05 16:28:26</td>\n",
       "      <td>593.934</td>\n",
       "      <td>183.632</td>\n",
       "      <td>1464.12</td>\n",
       "      <td>771.5</td>\n",
       "      <td>Fish</td>\n",
       "      <td>2018-12-05 16:27:54.218</td>\n",
       "      <td>2018-12-05 16:28:26.348</td>\n",
       "    </tr>\n",
       "  </tbody>\n",
       "</table>\n",
       "<p>5 rows × 22 columns</p>\n",
       "</div>"
      ],
      "text/plain": [
       "     classification_id    user_name      user_id               user_ip  \\\n",
       "4582         134315477     Octave.T  1.84892e+06  2ac8c22966cc5803ff03   \n",
       "4583         134315508     Octave.T  1.84892e+06  2ac8c22966cc5803ff03   \n",
       "4584         134315538     Octave.T  1.84892e+06  2ac8c22966cc5803ff03   \n",
       "4585         134315538     Octave.T  1.84892e+06  2ac8c22966cc5803ff03   \n",
       "4586         134717413  raspstephan  1.81491e+06  08ce726fe14db3753a3a   \n",
       "\n",
       "     workflow_id workflow_name workflow_version               created_at  \\\n",
       "4582        8072      Practice            24.13  2018-12-02 19:12:20 UTC   \n",
       "4583        8072      Practice            24.13  2018-12-02 19:12:44 UTC   \n",
       "4584        8072      Practice            24.13  2018-12-02 19:13:11 UTC   \n",
       "4585        8072      Practice            24.13  2018-12-02 19:13:11 UTC   \n",
       "4586        8072      Practice            24.13  2018-12-05 16:28:26 UTC   \n",
       "\n",
       "     gold_standard expert           ...            \\\n",
       "4582           NaN    NaN           ...             \n",
       "4583           NaN    NaN           ...             \n",
       "4584           NaN    NaN           ...             \n",
       "4585           NaN    NaN           ...             \n",
       "4586           NaN    NaN           ...             \n",
       "\n",
       "                                           subject_data subject_ids  \\\n",
       "4582  {'27140553': {'retired': None, 'fn': '/project...    27140553   \n",
       "4583  {'27139921': {'retired': None, 'fn': '/project...    27139921   \n",
       "4584  {'27140443': {'retired': None, 'fn': '/project...    27140443   \n",
       "4585  {'27140443': {'retired': None, 'fn': '/project...    27140443   \n",
       "4586  {'27140443': {'retired': None, 'fn': '/project...    27140443   \n",
       "\n",
       "                 datetime        x        y    width   height tool_label  \\\n",
       "4582  2018-12-02 19:12:20  59.3524  27.0925   1178.4  795.483     Gravel   \n",
       "4583  2018-12-02 19:12:44  108.761  886.807  1991.18  511.381      Sugar   \n",
       "4584  2018-12-02 19:13:11  610.261  9.79941  1482.27  864.655       Fish   \n",
       "4585  2018-12-02 19:13:11  42.0593   91.324  560.791  1237.69     Flower   \n",
       "4586  2018-12-05 16:28:26  593.934  183.632  1464.12    771.5       Fish   \n",
       "\n",
       "                  started_at             finished_at  \n",
       "4582 2018-12-02 19:11:53.686 2018-12-02 19:12:20.367  \n",
       "4583 2018-12-02 19:12:20.436 2018-12-02 19:12:43.824  \n",
       "4584 2018-12-02 19:12:43.974 2018-12-02 19:13:10.990  \n",
       "4585 2018-12-02 19:12:43.974 2018-12-02 19:13:10.990  \n",
       "4586 2018-12-05 16:27:54.218 2018-12-05 16:28:26.348  \n",
       "\n",
       "[5 rows x 22 columns]"
      ]
     },
     "execution_count": 184,
     "metadata": {},
     "output_type": "execute_result"
    }
   ],
   "source": [
    "annos_prac.tail()"
   ]
  },
  {
   "cell_type": "code",
   "execution_count": null,
   "metadata": {},
   "outputs": [],
   "source": []
  }
 ],
 "metadata": {
  "kernelspec": {
   "display_name": "Python 3",
   "language": "python",
   "name": "python3"
  },
  "language_info": {
   "codemirror_mode": {
    "name": "ipython",
    "version": 3
   },
   "file_extension": ".py",
   "mimetype": "text/x-python",
   "name": "python",
   "nbconvert_exporter": "python",
   "pygments_lexer": "ipython3",
   "version": "3.6.5"
  },
  "toc": {
   "base_numbering": 1,
   "nav_menu": {},
   "number_sections": true,
   "sideBar": false,
   "skip_h1_title": true,
   "title_cell": "Table of Contents",
   "title_sidebar": "Contents",
   "toc_cell": false,
   "toc_position": {},
   "toc_section_display": true,
   "toc_window_display": false
  }
 },
 "nbformat": 4,
 "nbformat_minor": 2
}
