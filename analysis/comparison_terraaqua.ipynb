{
 "cells": [
  {
   "cell_type": "markdown",
   "metadata": {},
   "source": [
    "# Difference between Aqua and Terra\n",
    "Looking at the classifications of the specific pattern a clear dependence on the satellite is visible. This notebook shall illuminate, whether these differences are real."
   ]
  },
  {
   "cell_type": "code",
   "execution_count": 1,
   "metadata": {},
   "outputs": [],
   "source": [
    "import csv\n",
    "import matplotlib.pyplot as plt\n",
    "import xarray as xr\n",
    "import pandas as pd\n",
    "\n",
    "import numpy as np\n",
    "import seaborn as sns\n",
    "import datetime as datetime\n",
    "from netCDF4 import num2date, date2num\n",
    "import zooniverse as zn\n",
    "\n",
    "from PIL import Image\n",
    "import matplotlib.patches as patches\n",
    "import matplotlib.image as mpimage\n",
    "\n",
    "%load_ext autoreload\n",
    "%autoreload 2"
   ]
  },
  {
   "cell_type": "code",
   "execution_count": 3,
   "metadata": {},
   "outputs": [],
   "source": [
    "classfile_in = '../zooniverse_raw/sugar-flower-fish-or-gravel-classifications_18_11_30.csv'\n",
    "subject_in = '../zooniverse_raw/sugar-flower-fish-or-gravel-subjects_18_11_05.csv'\n",
    "image_path = '/Volumes/Samsung_T5/Data/Satellites/MODIS/{}/'"
   ]
  },
  {
   "cell_type": "code",
   "execution_count": 4,
   "metadata": {},
   "outputs": [
    {
     "data": {
      "text/html": [
       "<div>\n",
       "<style scoped>\n",
       "    .dataframe tbody tr th:only-of-type {\n",
       "        vertical-align: middle;\n",
       "    }\n",
       "\n",
       "    .dataframe tbody tr th {\n",
       "        vertical-align: top;\n",
       "    }\n",
       "\n",
       "    .dataframe thead th {\n",
       "        text-align: right;\n",
       "    }\n",
       "</style>\n",
       "<table border=\"1\" class=\"dataframe\">\n",
       "  <thead>\n",
       "    <tr style=\"text-align: right;\">\n",
       "      <th></th>\n",
       "      <th>classification_id</th>\n",
       "      <th>user_name</th>\n",
       "      <th>user_id</th>\n",
       "      <th>user_ip</th>\n",
       "      <th>workflow_id</th>\n",
       "      <th>workflow_name</th>\n",
       "      <th>workflow_version</th>\n",
       "      <th>created_at</th>\n",
       "      <th>gold_standard</th>\n",
       "      <th>expert</th>\n",
       "      <th>metadata</th>\n",
       "      <th>annotations</th>\n",
       "      <th>subject_data</th>\n",
       "      <th>subject_ids</th>\n",
       "    </tr>\n",
       "  </thead>\n",
       "  <tbody>\n",
       "    <tr>\n",
       "      <th>30056</th>\n",
       "      <td>133973344</td>\n",
       "      <td>szantai</td>\n",
       "      <td>1848018.0</td>\n",
       "      <td>2076dfcfe93e5cbf253d</td>\n",
       "      <td>8072</td>\n",
       "      <td>Practice</td>\n",
       "      <td>24.13</td>\n",
       "      <td>2018-11-29 22:40:44 UTC</td>\n",
       "      <td>NaN</td>\n",
       "      <td>NaN</td>\n",
       "      <td>{'source': 'api', 'session': 'aef00130a923bbef...</td>\n",
       "      <td>{'task': 'T0', 'task_label': 'Draw bounding bo...</td>\n",
       "      <td>{'27140160': {'retired': None, 'fn': '/project...</td>\n",
       "      <td>27140160</td>\n",
       "    </tr>\n",
       "    <tr>\n",
       "      <th>30057</th>\n",
       "      <td>133973553</td>\n",
       "      <td>szantai</td>\n",
       "      <td>1848018.0</td>\n",
       "      <td>2076dfcfe93e5cbf253d</td>\n",
       "      <td>8072</td>\n",
       "      <td>Practice</td>\n",
       "      <td>24.13</td>\n",
       "      <td>2018-11-29 22:42:32 UTC</td>\n",
       "      <td>NaN</td>\n",
       "      <td>NaN</td>\n",
       "      <td>{'source': 'api', 'session': 'aef00130a923bbef...</td>\n",
       "      <td>{'task': 'T0', 'task_label': 'Draw bounding bo...</td>\n",
       "      <td>{'27140298': {'retired': None, 'fn': '/project...</td>\n",
       "      <td>27140298</td>\n",
       "    </tr>\n",
       "    <tr>\n",
       "      <th>30058</th>\n",
       "      <td>133973786</td>\n",
       "      <td>szantai</td>\n",
       "      <td>1848018.0</td>\n",
       "      <td>2076dfcfe93e5cbf253d</td>\n",
       "      <td>8072</td>\n",
       "      <td>Practice</td>\n",
       "      <td>24.13</td>\n",
       "      <td>2018-11-29 22:45:19 UTC</td>\n",
       "      <td>NaN</td>\n",
       "      <td>NaN</td>\n",
       "      <td>{'source': 'api', 'session': 'aef00130a923bbef...</td>\n",
       "      <td>{'task': 'T0', 'task_label': 'Draw bounding bo...</td>\n",
       "      <td>{'27140428': {'retired': None, 'fn': '/project...</td>\n",
       "      <td>27140428</td>\n",
       "    </tr>\n",
       "    <tr>\n",
       "      <th>30059</th>\n",
       "      <td>133974061</td>\n",
       "      <td>szantai</td>\n",
       "      <td>1848018.0</td>\n",
       "      <td>2076dfcfe93e5cbf253d</td>\n",
       "      <td>8072</td>\n",
       "      <td>Practice</td>\n",
       "      <td>24.13</td>\n",
       "      <td>2018-11-29 22:47:26 UTC</td>\n",
       "      <td>NaN</td>\n",
       "      <td>NaN</td>\n",
       "      <td>{'source': 'api', 'session': 'aef00130a923bbef...</td>\n",
       "      <td>{'task': 'T0', 'task_label': 'Draw bounding bo...</td>\n",
       "      <td>{'27140219': {'retired': None, 'fn': '/project...</td>\n",
       "      <td>27140219</td>\n",
       "    </tr>\n",
       "    <tr>\n",
       "      <th>30060</th>\n",
       "      <td>133974208</td>\n",
       "      <td>szantai</td>\n",
       "      <td>1848018.0</td>\n",
       "      <td>2076dfcfe93e5cbf253d</td>\n",
       "      <td>8072</td>\n",
       "      <td>Practice</td>\n",
       "      <td>24.13</td>\n",
       "      <td>2018-11-29 22:48:45 UTC</td>\n",
       "      <td>NaN</td>\n",
       "      <td>NaN</td>\n",
       "      <td>{'source': 'api', 'session': 'aef00130a923bbef...</td>\n",
       "      <td>{'task': 'T0', 'task_label': 'Draw bounding bo...</td>\n",
       "      <td>{'27140510': {'retired': None, 'fn': '/project...</td>\n",
       "      <td>27140510</td>\n",
       "    </tr>\n",
       "  </tbody>\n",
       "</table>\n",
       "</div>"
      ],
      "text/plain": [
       "       classification_id user_name    user_id               user_ip  \\\n",
       "30056          133973344   szantai  1848018.0  2076dfcfe93e5cbf253d   \n",
       "30057          133973553   szantai  1848018.0  2076dfcfe93e5cbf253d   \n",
       "30058          133973786   szantai  1848018.0  2076dfcfe93e5cbf253d   \n",
       "30059          133974061   szantai  1848018.0  2076dfcfe93e5cbf253d   \n",
       "30060          133974208   szantai  1848018.0  2076dfcfe93e5cbf253d   \n",
       "\n",
       "       workflow_id workflow_name  workflow_version               created_at  \\\n",
       "30056         8072      Practice             24.13  2018-11-29 22:40:44 UTC   \n",
       "30057         8072      Practice             24.13  2018-11-29 22:42:32 UTC   \n",
       "30058         8072      Practice             24.13  2018-11-29 22:45:19 UTC   \n",
       "30059         8072      Practice             24.13  2018-11-29 22:47:26 UTC   \n",
       "30060         8072      Practice             24.13  2018-11-29 22:48:45 UTC   \n",
       "\n",
       "       gold_standard  expert  \\\n",
       "30056            NaN     NaN   \n",
       "30057            NaN     NaN   \n",
       "30058            NaN     NaN   \n",
       "30059            NaN     NaN   \n",
       "30060            NaN     NaN   \n",
       "\n",
       "                                                metadata  \\\n",
       "30056  {'source': 'api', 'session': 'aef00130a923bbef...   \n",
       "30057  {'source': 'api', 'session': 'aef00130a923bbef...   \n",
       "30058  {'source': 'api', 'session': 'aef00130a923bbef...   \n",
       "30059  {'source': 'api', 'session': 'aef00130a923bbef...   \n",
       "30060  {'source': 'api', 'session': 'aef00130a923bbef...   \n",
       "\n",
       "                                             annotations  \\\n",
       "30056  {'task': 'T0', 'task_label': 'Draw bounding bo...   \n",
       "30057  {'task': 'T0', 'task_label': 'Draw bounding bo...   \n",
       "30058  {'task': 'T0', 'task_label': 'Draw bounding bo...   \n",
       "30059  {'task': 'T0', 'task_label': 'Draw bounding bo...   \n",
       "30060  {'task': 'T0', 'task_label': 'Draw bounding bo...   \n",
       "\n",
       "                                            subject_data  subject_ids  \n",
       "30056  {'27140160': {'retired': None, 'fn': '/project...     27140160  \n",
       "30057  {'27140298': {'retired': None, 'fn': '/project...     27140298  \n",
       "30058  {'27140428': {'retired': None, 'fn': '/project...     27140428  \n",
       "30059  {'27140219': {'retired': None, 'fn': '/project...     27140219  \n",
       "30060  {'27140510': {'retired': None, 'fn': '/project...     27140510  "
      ]
     },
     "execution_count": 4,
     "metadata": {},
     "output_type": "execute_result"
    }
   ],
   "source": [
    "classification_data = zn.parse_classifications(classfile_in,json_columns=['metadata', 'annotations', 'subject_data']); classification_data.tail()"
   ]
  },
  {
   "cell_type": "code",
   "execution_count": 5,
   "metadata": {},
   "outputs": [],
   "source": [
    "subject_data = zn.load_classifications(subject_in)"
   ]
  },
  {
   "cell_type": "code",
   "execution_count": 6,
   "metadata": {},
   "outputs": [],
   "source": [
    "def retrieve_fn(x):\n",
    "    try:\n",
    "        return x[\"fn\"]\n",
    "    except:\n",
    "        return None"
   ]
  },
  {
   "cell_type": "code",
   "execution_count": 7,
   "metadata": {},
   "outputs": [],
   "source": [
    "subject_data[\"filename\"] = subject_data[\"metadata\"].apply(retrieve_fn)"
   ]
  },
  {
   "cell_type": "markdown",
   "metadata": {},
   "source": [
    "## Select full dataset workflow (8073) only"
   ]
  },
  {
   "cell_type": "code",
   "execution_count": 8,
   "metadata": {},
   "outputs": [],
   "source": [
    "fulldataset = classification_data[classification_data.workflow_id == 8073];"
   ]
  },
  {
   "cell_type": "code",
   "execution_count": 9,
   "metadata": {},
   "outputs": [
    {
     "data": {
      "text/plain": [
       "{'26976410': {'fn': '/project/meteo/work/S.Rasp/cloud-classification/Region1_DJF_Aqua/Aqua_CorrectedReflectance20070103_-61--40_10-24.jpeg',\n",
       "  'id': '2',\n",
       "  'retired': None}}"
      ]
     },
     "execution_count": 9,
     "metadata": {},
     "output_type": "execute_result"
    }
   ],
   "source": [
    "fulldataset.subject_data.iloc[0]"
   ]
  },
  {
   "cell_type": "markdown",
   "metadata": {},
   "source": [
    "## Find subject/image pairs of terra and aqua satellites"
   ]
  },
  {
   "cell_type": "code",
   "execution_count": 10,
   "metadata": {},
   "outputs": [],
   "source": [
    "def devide_dataset(x):\n",
    "    if x is None: return None\n",
    "    elif \"Aqua\" in x: return int(0)\n",
    "    elif \"Terra\" in x: return int(1)"
   ]
  },
  {
   "cell_type": "code",
   "execution_count": 11,
   "metadata": {},
   "outputs": [],
   "source": [
    "subject_data[\"satellite\"] = subject_data[\"filename\"].apply(devide_dataset)"
   ]
  },
  {
   "cell_type": "code",
   "execution_count": 12,
   "metadata": {},
   "outputs": [],
   "source": [
    "[[_, aqua_grp], [_, terra_grp]]= subject_data.groupby('satellite')"
   ]
  },
  {
   "cell_type": "code",
   "execution_count": 13,
   "metadata": {},
   "outputs": [],
   "source": [
    "subject_pairs = []\n",
    "for i, subject in aqua_grp.iterrows():\n",
    "    id_aqua = subject.subject_id\n",
    "    fn_terra = subject.filename.replace(\"Aqua\",\"Terra\")\n",
    "    ind_terra = np.where([fn == fn_terra for fn in terra_grp.filename.values.astype(str)])[0]\n",
    "    if np.size(ind_terra) > 0:\n",
    "        id_terra = terra_grp.iloc[np.int(ind_terra)].subject_id\n",
    "        subject_pairs.append([id_aqua, id_terra])"
   ]
  },
  {
   "cell_type": "code",
   "execution_count": 14,
   "metadata": {},
   "outputs": [],
   "source": [
    "subject_data.set_index('subject_id',inplace=True)"
   ]
  },
  {
   "cell_type": "code",
   "execution_count": 15,
   "metadata": {},
   "outputs": [],
   "source": [
    "def extract_labels(annotations):\n",
    "    annos = []\n",
    "    for a in annotations:\n",
    "        for box in a['value']:\n",
    "            annos.append([box['x'], box['y'], box['width'],\n",
    "                          box['height'], box['tool_label']\n",
    "            ])\n",
    "    return annos"
   ]
  },
  {
   "cell_type": "code",
   "execution_count": null,
   "metadata": {},
   "outputs": [],
   "source": [
    "pattern = 'Flower'\n",
    "for p,(terra_id, aqua_id) in enumerate(subject_pairs[900:]):\n",
    "    if terra_id is not None and aqua_id is not None:\n",
    "        aqua_pattern = False\n",
    "        terra_pattern = False\n",
    "        terra_classification = fulldataset[fulldataset.subject_ids == terra_id]\n",
    "        aqua_classification  = fulldataset[fulldataset.subject_ids == aqua_id]\n",
    "        boxes_aqua  = extract_labels(aqua_classification.annotations.values)\n",
    "        boxes_terra = extract_labels(terra_classification.annotations.values)\n",
    "        for box in boxes_aqua:\n",
    "            if box[4] == pattern: aqua_pattern = True\n",
    "        for box in boxes_terra:\n",
    "            if box[4] == pattern: terra_pattern = True\n",
    "        if aqua_pattern==False and terra_pattern==True:\n",
    "            # Sugar was in aqua but not in terra overpass\n",
    "            try:\n",
    "                fig, ax = plt.subplots(1,2,figsize=(15, 15),dpi=70)\n",
    "                terra_filename = subject_data.loc[terra_id].filename\n",
    "                if type(terra_filename) != type('r'): terra_filename = subject_data.loc[terra_id].filename.values[0]\n",
    "                img_VIS = Image.open(image_path.format('VIS_images')+\"/\".join(terra_filename.split('/')[-2:]))\n",
    "                ax[0].imshow(img_VIS)\n",
    "                for a in boxes_terra:\n",
    "                    rect = patches.Rectangle((a[0],a[1]), a[2], a[3], facecolor='none', edgecolor='r')\n",
    "                    ax[0].add_patch(rect)\n",
    "                    ax[0].text(a[0],a[1], a[4], color='red', fontsize=15, va='top')\n",
    "                ax[0].axis(\"off\");\n",
    "\n",
    "                aqua_filename = subject_data.loc[aqua_id].filename\n",
    "                if type(aqua_filename) != type('r'): aqua_filename = subject_data.loc[aqua_id].filename.values[0]\n",
    "                img_VIS2 = Image.open(image_path.format('VIS_images')+\"/\".join(aqua_filename.split('/')[-2:]))\n",
    "                plt.imshow(img_VIS2)\n",
    "                for a in boxes_aqua:\n",
    "                    rect2 = patches.Rectangle((a[0],a[1]), a[2], a[3], facecolor='none', edgecolor='r')\n",
    "                    ax[1].add_patch(rect2)\n",
    "                    ax[1].text(a[0],a[1], a[4], color='red', fontsize=15, va='top')\n",
    "                ax[1].axis(\"off\");\n",
    "                plt.show();\n",
    "                plt.close(fig);\n",
    "                print(p)\n",
    "            except TypeError:\n",
    "                continue"
   ]
  },
  {
   "cell_type": "code",
   "execution_count": 1,
   "metadata": {},
   "outputs": [
    {
     "ename": "NameError",
     "evalue": "name 'subject_data' is not defined",
     "output_type": "error",
     "traceback": [
      "\u001b[0;31m---------------------------------------------------------------------------\u001b[0m",
      "\u001b[0;31mNameError\u001b[0m                                 Traceback (most recent call last)",
      "\u001b[0;32m<ipython-input-1-cc896c16e026>\u001b[0m in \u001b[0;36m<module>\u001b[0;34m()\u001b[0m\n\u001b[0;32m----> 1\u001b[0;31m \u001b[0msubject_data\u001b[0m\u001b[0;34m.\u001b[0m\u001b[0mloc\u001b[0m\u001b[0;34m[\u001b[0m\u001b[0mterra_id\u001b[0m\u001b[0;34m]\u001b[0m\u001b[0;34m\u001b[0m\u001b[0m\n\u001b[0m",
      "\u001b[0;31mNameError\u001b[0m: name 'subject_data' is not defined"
     ]
    }
   ],
   "source": [
    "subject_data.loc[terra_id]"
   ]
  },
  {
   "cell_type": "code",
   "execution_count": 161,
   "metadata": {},
   "outputs": [
    {
     "data": {
      "text/plain": [
       "'Region3_SON_Terra/Terra_CorrectedReflectance20171130_-135--114_-15--1.jpeg'"
      ]
     },
     "execution_count": 161,
     "metadata": {},
     "output_type": "execute_result"
    }
   ],
   "source": []
  },
  {
   "cell_type": "code",
   "execution_count": 174,
   "metadata": {},
   "outputs": [
    {
     "data": {
      "text/plain": [
       "array(['/project/meteo/work/S.Rasp/cloud-classification/Region1_DJF_Aqua/Aqua_CorrectedReflectance20070213_-61--40_10-24.jpeg',\n",
       "       '/project/meteo/work/S.Rasp/cloud-classification/Region1_DJF_Aqua/Aqua_CorrectedReflectance20070213_-61--40_10-24.jpeg'],\n",
       "      dtype=object)"
      ]
     },
     "execution_count": 174,
     "metadata": {},
     "output_type": "execute_result"
    }
   ],
   "source": [
    "subject_data.loc[terra_id].filename.values"
   ]
  },
  {
   "cell_type": "code",
   "execution_count": null,
   "metadata": {},
   "outputs": [],
   "source": [
    "a[]"
   ]
  }
 ],
 "metadata": {
  "kernelspec": {
   "display_name": "Python 3",
   "language": "python",
   "name": "python3"
  },
  "language_info": {
   "codemirror_mode": {
    "name": "ipython",
    "version": 3
   },
   "file_extension": ".py",
   "mimetype": "text/x-python",
   "name": "python",
   "nbconvert_exporter": "python",
   "pygments_lexer": "ipython3",
   "version": "3.6.4"
  }
 },
 "nbformat": 4,
 "nbformat_minor": 2
}
