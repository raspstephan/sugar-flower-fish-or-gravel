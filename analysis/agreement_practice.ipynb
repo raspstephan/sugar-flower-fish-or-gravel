{
 "cells": [
  {
   "cell_type": "markdown",
   "metadata": {},
   "source": [
    "# Intersection over Unity score"
   ]
  },
  {
   "cell_type": "code",
   "execution_count": null,
   "metadata": {},
   "outputs": [],
   "source": [
    "import csv\n",
    "import matplotlib.pyplot as plt\n",
    "import xarray as xr\n",
    "import pandas as pd\n",
    "\n",
    "import numpy as np\n",
    "import seaborn as sns\n",
    "import datetime as datetime\n",
    "from netCDF4 import num2date, date2num\n",
    "import zooniverse as zn\n",
    "\n",
    "from PIL import Image\n",
    "import matplotlib.patches as patches\n",
    "import matplotlib.image as mpimage\n",
    "\n",
    "import numba as nb\n",
    "from collections import defaultdict\n",
    "import itertools\n",
    "\n",
    "%load_ext autoreload\n",
    "%autoreload 2"
   ]
  },
  {
   "cell_type": "code",
   "execution_count": null,
   "metadata": {},
   "outputs": [],
   "source": [
    "classfile_in = '../zooniverse_raw/sugar-flower-fish-or-gravel-classifications_18_12_16.csv'\n",
    "subject_in = '../zooniverse_raw/sugar-flower-fish-or-gravel-subjects_18_11_05.csv'"
   ]
  },
  {
   "cell_type": "code",
   "execution_count": null,
   "metadata": {},
   "outputs": [],
   "source": [
    "classification_data = zn.parse_classifications(classfile_in,json_columns=['metadata', 'annotations', 'subject_data']);\n",
    "prac_dataset = classification_data[np.logical_and(classification_data.workflow_id == 8072,\n",
    "                                                  classification_data.workflow_version == 24.13) ]; prac_dataset.head()"
   ]
  },
  {
   "cell_type": "code",
   "execution_count": null,
   "metadata": {},
   "outputs": [],
   "source": [
    "unique_users = list(prac_dataset['user_name'].unique())"
   ]
  },
  {
   "cell_type": "code",
   "execution_count": null,
   "metadata": {},
   "outputs": [],
   "source": [
    "# Restrict comparision only to people who did more than x classifications\n",
    "unique_users = []\n",
    "for u,user in prac_dataset.groupby('user_name'):\n",
    "    if len(user) > 20:\n",
    "        unique_users.append(u)"
   ]
  },
  {
   "cell_type": "code",
   "execution_count": null,
   "metadata": {},
   "outputs": [],
   "source": [
    "image_width =2100\n",
    "image_height=1400\n",
    "annos_prac = defaultdict(list)\n",
    "for i, r in prac_dataset.iterrows():\n",
    "    if len(r['annotations']['value']) > 0 :\n",
    "        for a in r['annotations']['value']:\n",
    "            x = np.max([0., a['x']]); y = np.max([0., a['y']])\n",
    "            w = np.min([image_width - a['x'], a['width']])\n",
    "            h = np.min([image_height - a['y'], a['height']])\n",
    "            annos_prac[r['subject_ids']].append([\n",
    "                r['user_name'],\n",
    "                [x, y, w, h],\n",
    "                a['tool_label']\n",
    "            ])\n",
    "    else:   # No annotation\n",
    "        annos_prac[r['subject_ids']].append([\n",
    "            r['user_name'],\n",
    "            [None, None, None, None],\n",
    "            None\n",
    "        ])"
   ]
  },
  {
   "cell_type": "code",
   "execution_count": null,
   "metadata": {},
   "outputs": [],
   "source": [
    "subjects_prac = list(annos_prac.keys()); len(subjects_prac)"
   ]
  },
  {
   "cell_type": "code",
   "execution_count": null,
   "metadata": {},
   "outputs": [],
   "source": [
    "annos_prac.keys()"
   ]
  },
  {
   "cell_type": "code",
   "execution_count": null,
   "metadata": {},
   "outputs": [],
   "source": [
    "def get_comp_data(subject_id, user1, user2, annos):\n",
    "    subj_annos = annos[subject_id]\n",
    "    users = list(set([a[0] for a in subj_annos]))\n",
    "    if user1 in users and user2 in users:\n",
    "        annos1 = [a[1:] for a in subj_annos if a[0] == user1]\n",
    "        annos2 = [a[1:] for a in subj_annos if a[0] == user2]\n",
    "        if annos1[0][1] is None and annos2[0][1] is None:\n",
    "            iou = 1.\n",
    "        elif annos1[0][1] is None:\n",
    "            iou = 0.\n",
    "        elif annos2[0][1] is None:\n",
    "            iou = 0.\n",
    "        else:\n",
    "            iou = iou_multi_class(annos1, annos2)\n",
    "        return iou\n",
    "    else:\n",
    "        return None"
   ]
  },
  {
   "cell_type": "code",
   "execution_count": null,
   "metadata": {},
   "outputs": [],
   "source": [
    "def iou_multi_class(annos1, annos2):\n",
    "    \"\"\"For two users\"\"\"\n",
    "    classes = ['Sugar', 'Flower', 'Fish', 'Gravel']\n",
    "    i_tot = 0; u_tot = 0\n",
    "    for c in classes:\n",
    "        ac1 = [a[0] for a in annos1 if a[1] == c]\n",
    "        ac2 = [a[0] for a in annos2 if a[1] == c]\n",
    "        if len(ac1) == 0 and len(ac2) == 0:   # None of the users has this class\n",
    "            i = 0; u = 0\n",
    "        elif len(ac1) == 0 or len(ac2) == 0:\n",
    "            i = 0\n",
    "            u = compute_area_sum(ac1 + ac2)\n",
    "        else:\n",
    "            i, u = iou_one_class(ac1, ac2)\n",
    "        i_tot += i; u_tot += u\n",
    "    return i_tot / u_tot"
   ]
  },
  {
   "cell_type": "code",
   "execution_count": null,
   "metadata": {},
   "outputs": [],
   "source": [
    "def iou_one_class(annos1, annos2):\n",
    "    \"\"\"annos1 and annos2 are lists with the coordinates of each annotation\"\"\"\n",
    "    import itertools\n",
    "    # All permutations\n",
    "    i = 0\n",
    "    for a1 in annos1:\n",
    "        for a2 in annos2:\n",
    "            i += compute_intersect(a1, a2)\n",
    "    # Need to compute the overlap between the boxes of 1 and 2\n",
    "    i1 = 0; i2 = 0\n",
    "    for b1, b2 in itertools.combinations(annos1, 2):\n",
    "        i1 += compute_intersect(b1, b2)\n",
    "    for b1, b2 in itertools.combinations(annos2, 2):\n",
    "        i2 += compute_intersect(b1, b2)\n",
    "    u = compute_area_sum(annos1 + annos2) - i# - i1 -i2\n",
    "    \n",
    "    iou = i/u  #(i - i1 - i2) / u\n",
    "    return i, u"
   ]
  },
  {
   "cell_type": "code",
   "execution_count": null,
   "metadata": {},
   "outputs": [],
   "source": [
    "def compute_intersect(a1, a2):\n",
    "    \"\"\"https://www.pyimagesearch.com/2016/11/07/intersection-over-union-iou-for-object-detection/\"\"\"\n",
    "    x1a, y1a, x2a, y2a = wh2xy(*a1)\n",
    "    x1b, y1b, x2b, y2b = wh2xy(*a2)\n",
    "    xA = max(x1a, x1b)\n",
    "    yA = max(y1a, y1b)\n",
    "    xB = min(x2a, x2b)\n",
    "    yB = min(y2a, y2b)\n",
    "    i = max(0, xB - xA) * max(0, yB - yA) # max(0, xB - xA + 1) * max(0, yB - yA + 1)\n",
    "    return i"
   ]
  },
  {
   "cell_type": "code",
   "execution_count": null,
   "metadata": {},
   "outputs": [],
   "source": [
    "def compute_area_sum(annos):\n",
    "    areas = [a[2] * a[3] for a in annos]\n",
    "    return np.sum(areas)"
   ]
  },
  {
   "cell_type": "code",
   "execution_count": null,
   "metadata": {},
   "outputs": [],
   "source": [
    "def wh2xy(x, y, w, h):\n",
    "    return x, y, x+w, y+h"
   ]
  },
  {
   "cell_type": "code",
   "execution_count": null,
   "metadata": {},
   "outputs": [],
   "source": [
    "agreement  = defaultdict(list)\n",
    "for s in subjects_prac:\n",
    "    for u in unique_users:\n",
    "        agreement[u].append(get_comp_data(s, 'sbony', u, annos_prac))"
   ]
  },
  {
   "cell_type": "code",
   "execution_count": null,
   "metadata": {},
   "outputs": [],
   "source": [
    "df = pd.DataFrame(data = {'agreement': [np.mean([a for a in agreement[u] if a is not None]) for u in unique_users]}, index=unique_users)"
   ]
  },
  {
   "cell_type": "code",
   "execution_count": null,
   "metadata": {},
   "outputs": [],
   "source": [
    "df.sort_values('agreement', axis=0, ascending=False, inplace=True)"
   ]
  },
  {
   "cell_type": "code",
   "execution_count": null,
   "metadata": {},
   "outputs": [],
   "source": [
    "fig = plt.figure(figsize=(5, 15))\n",
    "sns.barplot(x=df['agreement'], y=df.index,color=\"grey\")\n",
    "sns.despine(offset=10,left=True)\n",
    "fig.set_dpi(300)"
   ]
  }
 ],
 "metadata": {
  "kernelspec": {
   "display_name": "Python 3",
   "language": "python",
   "name": "python3"
  },
  "language_info": {
   "codemirror_mode": {
    "name": "ipython",
    "version": 3
   },
   "file_extension": ".py",
   "mimetype": "text/x-python",
   "name": "python",
   "nbconvert_exporter": "python",
   "pygments_lexer": "ipython3",
   "version": "3.6.4"
  }
 },
 "nbformat": 4,
 "nbformat_minor": 2
}
