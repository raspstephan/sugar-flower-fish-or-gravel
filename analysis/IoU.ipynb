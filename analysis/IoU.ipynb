{
 "cells": [
  {
   "cell_type": "markdown",
   "metadata": {},
   "source": [
    "# Intersect over Union score for multi-label, multi-class classification"
   ]
  },
  {
   "cell_type": "code",
   "execution_count": 2,
   "metadata": {},
   "outputs": [],
   "source": [
    "from pyclouds import iou\n",
    "from pyclouds.imports import *\n",
    "%load_ext autoreload\n",
    "%autoreload 2\n",
    "%matplotlib inline"
   ]
  },
  {
   "cell_type": "markdown",
   "metadata": {},
   "source": [
    "## Simple IoU for two boxes\n",
    "\n",
    "The basic IoU score for two objects is simply\n",
    "\n",
    "<img src=\"https://www.pyimagesearch.com/wp-content/uploads/2016/09/iou_equation.png\" width=\"400\">\n",
    "\n",
    "In the annotations we are using the coordinate convention: x of bottom left, y of bottom left, width, height"
   ]
  },
  {
   "cell_type": "code",
   "execution_count": 152,
   "metadata": {},
   "outputs": [],
   "source": [
    "# Create example boxes\n",
    "a1 = [50, 50, 400, 400]\n",
    "a2 = [10, 10, 300, 300]\n",
    "a3 = [600, 600, 20, 20]"
   ]
  },
  {
   "cell_type": "code",
   "execution_count": 153,
   "metadata": {},
   "outputs": [
    {
     "data": {
      "image/png": "[encoded data removed]",
      "text/plain": [
       "<Figure size 504x504 with 1 Axes>"
      ]
     },
     "metadata": {},
     "output_type": "display_data"
    }
   ],
   "source": [
    "# Plot example boxes\n",
    "fig, ax = plt.subplots(figsize=(7, 7))\n",
    "for a, c in zip([a1, a2, a3], ['r', 'g', 'b']):\n",
    "    rect = patches.Rectangle((a[0],a[1]), a[2], a[3], facecolor='none', edgecolor=c)\n",
    "    ax.add_patch(rect)\n",
    "ax.set_xlim(0, 1000); ax.set_ylim(0, 1000);"
   ]
  },
  {
   "cell_type": "markdown",
   "metadata": {},
   "source": [
    "To compute the IoU, we first compute the intersect between the two boxes.\n",
    "\n",
    "To compute the union, we can simply compute the sum of the two areas and subtract the intersect (which you count twice by adding the sums)."
   ]
  },
  {
   "cell_type": "code",
   "execution_count": 154,
   "metadata": {},
   "outputs": [
    {
     "data": {
      "text/plain": [
       "(67600, 182400, 0.3706140350877193)"
      ]
     },
     "execution_count": 154,
     "metadata": {},
     "output_type": "execute_result"
    }
   ],
   "source": [
    "# Compute IoU\n",
    "# 1. Intersect between two boxes\n",
    "I = iou.compute_intersect(a1, a2)\n",
    "# 2. Then compute the sum of the areas and subtract the intersect\n",
    "U = iou.compute_area_sum([a1, a2]) - I\n",
    "# Finally, divede I by U\n",
    "I, U, I/U"
   ]
  },
  {
   "cell_type": "code",
   "execution_count": 155,
   "metadata": {},
   "outputs": [
    {
     "data": {
      "text/plain": [
       "1.0"
      ]
     },
     "execution_count": 155,
     "metadata": {},
     "output_type": "execute_result"
    }
   ],
   "source": [
    "# Test two identical boxes\n",
    "I = iou.compute_intersect(a1, a1)\n",
    "U = iou.compute_area_sum([a1, a1]) - I\n",
    "I/U"
   ]
  },
  {
   "cell_type": "code",
   "execution_count": 156,
   "metadata": {},
   "outputs": [
    {
     "data": {
      "text/plain": [
       "0.0"
      ]
     },
     "execution_count": 156,
     "metadata": {},
     "output_type": "execute_result"
    }
   ],
   "source": [
    "# Test two boxes that do not overlap\n",
    "I = iou.compute_intersect(a1, a3)\n",
    "U = iou.compute_area_sum([a1, a3]) - I\n",
    "I/U"
   ]
  },
  {
   "cell_type": "markdown",
   "metadata": {},
   "source": [
    "## A different way of computing IoU - the brute force way\n",
    "\n",
    "The method above works great in simple cases. Going to the multi-label case however is really tricky because a lot of special cases have to be considered, such as overlapping boxes of one or both users. I think it is possible just using the box edge coordinates but I struggled for too long. \n",
    "\n",
    "So we will just use the brute force approach. We will simply create an array with the same dimensions as the image and fill in the boxes."
   ]
  },
  {
   "cell_type": "code",
   "execution_count": 157,
   "metadata": {},
   "outputs": [],
   "source": [
    "def fill_array_with_boxes(annos, img_size):\n",
    "    \"\"\"\n",
    "    Creates an array where all areas of the array that are in one of the boxes are True, otherwise False\n",
    "    \"\"\"\n",
    "    arr = np.zeros(img_size, dtype=bool)\n",
    "    for a in annos:\n",
    "        arr[a[0]:a[0]+a[2], a[1]:a[1]+a[3]] = True\n",
    "    return arr"
   ]
  },
  {
   "cell_type": "code",
   "execution_count": 158,
   "metadata": {},
   "outputs": [],
   "source": [
    "def intersect_from_arrs(arr1, arr2):\n",
    "    return np.sum(np.bitwise_and(arr1, arr2))\n",
    "def union_from_arrs(arr1, arr2):\n",
    "    return np.sum(np.bitwise_or(arr1, arr2))\n",
    "def iou_one_class_from_arrs(arr1, arr2):\n",
    "    return intersect_from_arrs(arr1, arr2) / union_from_arrs(arr1, arr2)\n",
    "def iou_one_class_from_annos(annos1, annos2, img_size):\n",
    "    return iou_one_class_from_arrs(\n",
    "        fill_array_with_boxes(annos1, img_size), fill_array_with_boxes(annos2, img_size))"
   ]
  },
  {
   "cell_type": "code",
   "execution_count": 161,
   "metadata": {},
   "outputs": [
    {
     "data": {
      "text/plain": [
       "(0.3706140350877193, 1.0, 0.0)"
      ]
     },
     "execution_count": 161,
     "metadata": {},
     "output_type": "execute_result"
    }
   ],
   "source": [
    "iou_one_class_from_annos([a1], [a2], (1000, 1000)), \\\n",
    "iou_one_class_from_annos([a1], [a1], (1000, 1000)), \\\n",
    "iou_one_class_from_annos([a1], [a3], (1000, 1000))"
   ]
  },
  {
   "cell_type": "markdown",
   "metadata": {},
   "source": [
    "## Multi-label case\n",
    "\n",
    "Next we will simulate the case where the two \"users\" draw several boxes. For now let's assume that there is only one class."
   ]
  },
  {
   "cell_type": "code",
   "execution_count": 71,
   "metadata": {},
   "outputs": [],
   "source": [
    "# Again let's create an example\n",
    "annos1 = [[0, 0, 3, 3], [5, 5, 2, 2]]\n",
    "annos2 = [[1, 1, 3, 3], [2, 2, 5, 5], [6, 6, 3, 3]]\n",
    "# Easy example 1: I = 12, U = 37\n",
    "annos1 = [[0, 0, 4, 4], [3, 3, 3, 3]]   # For only annos1: I = U = 24\n",
    "annos2 = [[2, 2, 5, 5]]"
   ]
  },
  {
   "cell_type": "code",
   "execution_count": 72,
   "metadata": {},
   "outputs": [
    {
     "data": {
      "image/png": "[encoded data removed]",
      "text/plain": [
       "<Figure size 504x504 with 1 Axes>"
      ]
     },
     "metadata": {},
     "output_type": "display_data"
    }
   ],
   "source": [
    "# And plot it\n",
    "# Plot example boxes\n",
    "fig, ax = plt.subplots(figsize=(7, 7))\n",
    "for annos, c in zip([annos1, annos2], ['r', 'g']):\n",
    "    for a in annos:\n",
    "        rect = patches.Rectangle((a[0],a[1]), a[2], a[3], facecolor='none', edgecolor=c)\n",
    "        ax.add_patch(rect)\n",
    "ax.set_xlim(0, 10); ax.set_ylim(0, 10);"
   ]
  },
  {
   "cell_type": "markdown",
   "metadata": {},
   "source": [
    "Here it becomes a bigger challenge to compute the intersect and union.\n",
    "\n",
    "First we "
   ]
  },
  {
   "cell_type": "code",
   "execution_count": 131,
   "metadata": {},
   "outputs": [
    {
     "data": {
      "text/plain": [
       "[[0, 0, 4, 4], [3, 3, 3, 3]]"
      ]
     },
     "execution_count": 131,
     "metadata": {},
     "output_type": "execute_result"
    }
   ],
   "source": [
    "annos1"
   ]
  },
  {
   "cell_type": "code",
   "execution_count": 147,
   "metadata": {},
   "outputs": [
    {
     "data": {
      "text/plain": [
       "(24, 24)"
      ]
     },
     "execution_count": 147,
     "metadata": {},
     "output_type": "execute_result"
    }
   ],
   "source": [
    "z1 = np.zeros((10, 10), dtype=bool)\n",
    "for a in annos1:\n",
    "    z1[a[0]:a[0]+a[2], a[1]:a[1]+a[3]] = True\n",
    "z2 = np.zeros((10, 10), dtype=bool)\n",
    "for a in annos1:\n",
    "    z2[a[0]:a[0]+a[2], a[1]:a[1]+a[3]] = True\n",
    "z_i = np.bitwise_and(z1, z2)\n",
    "z_u = np.bitwise_or(z1, z2)\n",
    "np.sum(z_i), np.sum(z_u)"
   ]
  },
  {
   "cell_type": "code",
   "execution_count": 148,
   "metadata": {},
   "outputs": [
    {
     "data": {
      "text/plain": [
       "<matplotlib.image.AxesImage at 0x7f7a14d902e8>"
      ]
     },
     "execution_count": 148,
     "metadata": {},
     "output_type": "execute_result"
    },
    {
     "data": {
      "image/png": "[encoded data removed]",
      "text/plain": [
       "<Figure size 288x288 with 1 Axes>"
      ]
     },
     "metadata": {},
     "output_type": "display_data"
    },
    {
     "data": {
      "image/png": "[encoded data removed]",
      "text/plain": [
       "<Figure size 288x288 with 1 Axes>"
      ]
     },
     "metadata": {},
     "output_type": "display_data"
    },
    {
     "data": {
      "image/png": "[encoded data removed]",
      "text/plain": [
       "<Figure size 288x288 with 1 Axes>"
      ]
     },
     "metadata": {},
     "output_type": "display_data"
    },
    {
     "data": {
      "image/png": "[encoded data removed]",
      "text/plain": [
       "<Figure size 288x288 with 1 Axes>"
      ]
     },
     "metadata": {},
     "output_type": "display_data"
    }
   ],
   "source": [
    "plt.matshow(z1, origin='lower')\n",
    "plt.matshow(z2, origin='lower')\n",
    "plt.matshow(z_i, origin='lower')\n",
    "plt.matshow(z_u, origin='lower')"
   ]
  },
  {
   "cell_type": "code",
   "execution_count": 106,
   "metadata": {},
   "outputs": [],
   "source": [
    "def wh2xy(x, y, w, h):\n",
    "    return x, y, x+w, y+h\n",
    "\n",
    "def compute_intersect_tmp(a1, a2):\n",
    "    \"\"\"\n",
    "    https://www.pyimagesearch.com/2016/11/07/intersection-over-union-iou-for-object-detection/\n",
    "    Computes the intersect between two boxes.\n",
    "    \"\"\"\n",
    "    x1a, y1a, x2a, y2a = wh2xy(*a1)\n",
    "    x1b, y1b, x2b, y2b = wh2xy(*a2)\n",
    "    xA = max(x1a, x1b)\n",
    "    yA = max(y1a, y1b)\n",
    "    xB = min(x2a, x2b)\n",
    "    yB = min(y2a, y2b)\n",
    "    i = max(0, xB - xA) * max(0, yB - yA) # max(0, xB - xA + 1) * max(0, yB - yA + 1)\n",
    "    return i, [xA, yA, xB, yB]"
   ]
  },
  {
   "cell_type": "code",
   "execution_count": 101,
   "metadata": {},
   "outputs": [
    {
     "data": {
      "text/plain": [
       "((16, 0, 0, 4, 4), [0, 0, 4, 4])"
      ]
     },
     "execution_count": 101,
     "metadata": {},
     "output_type": "execute_result"
    }
   ],
   "source": [
    "compute_intersect_tmp(annos1[0], annos1[0]), annos1[0]"
   ]
  },
  {
   "cell_type": "code",
   "execution_count": 117,
   "metadata": {},
   "outputs": [],
   "source": [
    "def wh2xy(x, y, w, h):\n",
    "    return x, y, x+w, y+h\n",
    "\n",
    "def xy2wh(x1, y1, x2, y2):\n",
    "    return x1, y1, x2 - x1, y2 - y1"
   ]
  },
  {
   "cell_type": "code",
   "execution_count": 121,
   "metadata": {},
   "outputs": [],
   "source": [
    "i = 0\n",
    "intersects = []\n",
    "for a1 in annos1:\n",
    "    for a2 in annos1:\n",
    "        r = compute_intersect_tmp(a1, a2)\n",
    "        i += r[0]\n",
    "        intersects.append(xy2wh(*r[1]))"
   ]
  },
  {
   "cell_type": "code",
   "execution_count": 122,
   "metadata": {},
   "outputs": [
    {
     "data": {
      "text/plain": [
       "27"
      ]
     },
     "execution_count": 122,
     "metadata": {},
     "output_type": "execute_result"
    }
   ],
   "source": [
    "i"
   ]
  },
  {
   "cell_type": "code",
   "execution_count": 123,
   "metadata": {},
   "outputs": [
    {
     "data": {
      "text/plain": [
       "[(0, 0, 4, 4), (3, 3, 1, 1), (3, 3, 1, 1), (3, 3, 3, 3)]"
      ]
     },
     "execution_count": 123,
     "metadata": {},
     "output_type": "execute_result"
    }
   ],
   "source": [
    "intersects"
   ]
  },
  {
   "cell_type": "code",
   "execution_count": 130,
   "metadata": {},
   "outputs": [
    {
     "name": "stdout",
     "output_type": "stream",
     "text": [
      "(0, 0, 4, 4) (3, 3, 1, 1) 1\n",
      "(0, 0, 4, 4) (3, 3, 1, 1) 1\n",
      "(0, 0, 4, 4) (3, 3, 3, 3) 1\n",
      "(3, 3, 1, 1) (3, 3, 1, 1) 1\n",
      "(3, 3, 1, 1) (3, 3, 3, 3) 1\n",
      "(3, 3, 1, 1) (3, 3, 3, 3) 1\n"
     ]
    },
    {
     "data": {
      "text/plain": [
       "(6, 3)"
      ]
     },
     "execution_count": 130,
     "metadata": {},
     "output_type": "execute_result"
    }
   ],
   "source": [
    "ii = 0\n",
    "for i1, i2 in itertools.combinations(intersects, 2):\n",
    "    print(i1, i2, compute_intersect(i1, i2))\n",
    "    ii += compute_intersect(i1, i2)\n",
    "ii, ii // 2"
   ]
  },
  {
   "cell_type": "code",
   "execution_count": 129,
   "metadata": {},
   "outputs": [
    {
     "name": "stdout",
     "output_type": "stream",
     "text": [
      "0 1\n",
      "0 2\n",
      "0 3\n",
      "1 2\n",
      "1 3\n",
      "2 3\n"
     ]
    }
   ],
   "source": [
    "for i1, i2 in itertools.combinations([0, 1, 2, 3], 2):\n",
    "    print(i1, i2)"
   ]
  },
  {
   "cell_type": "code",
   "execution_count": null,
   "metadata": {},
   "outputs": [],
   "source": []
  },
  {
   "cell_type": "code",
   "execution_count": 89,
   "metadata": {},
   "outputs": [],
   "source": [
    "from pyclouds.iou import compute_intersect, compute_area_sum\n",
    "import pdb\n",
    "def iou_one_class_tmp(annos1, annos2):\n",
    "    pdb.set_trace()\n",
    "    \"\"\"annos1 and annos2 are lists with the coordinates of each annotation\"\"\"\n",
    "    # All permutations\n",
    "    i_tmp = 0\n",
    "    for a1 in annos1:\n",
    "        for a2 in annos2:\n",
    "            i_tmp += compute_intersect(a1, a2)\n",
    "    # Need to compute the overlap between the boxes of 1 and 2\n",
    "    i1 = 0; i2 = 0\n",
    "    for b1, b2 in itertools.combinations(annos1, 2):\n",
    "        i1 += compute_intersect(b1, b2)\n",
    "    for b1, b2 in itertools.combinations(annos2, 2):\n",
    "        i2 += compute_intersect(b1, b2)\n",
    "        \n",
    "    i = i_tmp - i1 - i2\n",
    "    i3 = 0\n",
    "    for b1, b2 in itertools.combinations(annos1 + annos2, 2):\n",
    "        i3 += compute_intersect(b1, b2)\n",
    "    u = compute_area_sum(annos1 + annos2) - i_tmp #- i3\n",
    "    \n",
    "    iou = i/u  #(i - i1 - i2) / u\n",
    "    return i, u, iou"
   ]
  },
  {
   "cell_type": "code",
   "execution_count": 90,
   "metadata": {},
   "outputs": [
    {
     "name": "stdout",
     "output_type": "stream",
     "text": [
      "> <ipython-input-89-7f1e2b7d51db>(7)iou_one_class_tmp()\n",
      "-> i_tmp = 0\n",
      "(Pdb) n\n",
      "> <ipython-input-89-7f1e2b7d51db>(8)iou_one_class_tmp()\n",
      "-> for a1 in annos1:\n",
      "(Pdb) n\n",
      "> <ipython-input-89-7f1e2b7d51db>(9)iou_one_class_tmp()\n",
      "-> for a2 in annos2:\n",
      "(Pdb) n\n",
      "> <ipython-input-89-7f1e2b7d51db>(10)iou_one_class_tmp()\n",
      "-> i_tmp += compute_intersect(a1, a2)\n",
      "(Pdb) p a1, a2\n",
      "([0, 0, 4, 4], [0, 0, 4, 4])\n",
      "(Pdb) compute_intersect(a1, a2)\n",
      "16\n",
      "(Pdb) n\n",
      "> <ipython-input-89-7f1e2b7d51db>(9)iou_one_class_tmp()\n",
      "-> for a2 in annos2:\n",
      "(Pdb) i_tmp\n",
      "16\n",
      "(Pdb) n\n",
      "> <ipython-input-89-7f1e2b7d51db>(10)iou_one_class_tmp()\n",
      "-> i_tmp += compute_intersect(a1, a2)\n",
      "(Pdb) p a1, a2\n",
      "([0, 0, 4, 4], [3, 3, 3, 3])\n",
      "(Pdb) compute_intersect(a1, a2)\n",
      "1\n",
      "(Pdb) n\n",
      "> <ipython-input-89-7f1e2b7d51db>(9)iou_one_class_tmp()\n",
      "-> for a2 in annos2:\n",
      "(Pdb) i_tmp\n",
      "17\n",
      "(Pdb) n\n",
      "> <ipython-input-89-7f1e2b7d51db>(8)iou_one_class_tmp()\n",
      "-> for a1 in annos1:\n",
      "(Pdb) n\n",
      "> <ipython-input-89-7f1e2b7d51db>(9)iou_one_class_tmp()\n",
      "-> for a2 in annos2:\n",
      "(Pdb) n\n",
      "> <ipython-input-89-7f1e2b7d51db>(10)iou_one_class_tmp()\n",
      "-> i_tmp += compute_intersect(a1, a2)\n",
      "(Pdb) n\n",
      "> <ipython-input-89-7f1e2b7d51db>(9)iou_one_class_tmp()\n",
      "-> for a2 in annos2:\n",
      "(Pdb) i_tmp\n",
      "18\n",
      "(Pdb) n\n",
      "> <ipython-input-89-7f1e2b7d51db>(10)iou_one_class_tmp()\n",
      "-> i_tmp += compute_intersect(a1, a2)\n",
      "(Pdb) n\n",
      "> <ipython-input-89-7f1e2b7d51db>(9)iou_one_class_tmp()\n",
      "-> for a2 in annos2:\n",
      "(Pdb) n\n",
      "> <ipython-input-89-7f1e2b7d51db>(8)iou_one_class_tmp()\n",
      "-> for a1 in annos1:\n",
      "(Pdb) i_tmp\n",
      "27\n",
      "(Pdb) n\n",
      "> <ipython-input-89-7f1e2b7d51db>(12)iou_one_class_tmp()\n",
      "-> i1 = 0; i2 = 0\n",
      "(Pdb) n\n",
      "> <ipython-input-89-7f1e2b7d51db>(13)iou_one_class_tmp()\n",
      "-> for b1, b2 in itertools.combinations(annos1, 2):\n",
      "(Pdb) i_tmp\n",
      "27\n",
      "(Pdb) q\n"
     ]
    },
    {
     "ename": "BdbQuit",
     "evalue": "",
     "output_type": "error",
     "traceback": [
      "\u001b[0;31m---------------------------------------------------------------------------\u001b[0m",
      "\u001b[0;31mBdbQuit\u001b[0m                                   Traceback (most recent call last)",
      "\u001b[0;32m<ipython-input-90-f76f8c14976a>\u001b[0m in \u001b[0;36m<module>\u001b[0;34m()\u001b[0m\n\u001b[1;32m      1\u001b[0m \u001b[0mi\u001b[0m\u001b[0;34m,\u001b[0m \u001b[0mu\u001b[0m \u001b[0;34m=\u001b[0m \u001b[0miou\u001b[0m\u001b[0;34m.\u001b[0m\u001b[0miou_one_class\u001b[0m\u001b[0;34m(\u001b[0m\u001b[0mannos1\u001b[0m\u001b[0;34m,\u001b[0m \u001b[0mannos1\u001b[0m\u001b[0;34m)\u001b[0m\u001b[0;34m\u001b[0m\u001b[0m\n\u001b[0;32m----> 2\u001b[0;31m \u001b[0mi\u001b[0m\u001b[0;34m,\u001b[0m \u001b[0mu\u001b[0m\u001b[0;34m,\u001b[0m \u001b[0mi\u001b[0m\u001b[0;34m/\u001b[0m\u001b[0mu\u001b[0m\u001b[0;34m,\u001b[0m \u001b[0miou_one_class_tmp\u001b[0m\u001b[0;34m(\u001b[0m\u001b[0mannos1\u001b[0m\u001b[0;34m,\u001b[0m \u001b[0mannos1\u001b[0m\u001b[0;34m)\u001b[0m\u001b[0;34m\u001b[0m\u001b[0m\n\u001b[0m",
      "\u001b[0;32m<ipython-input-89-7f1e2b7d51db>\u001b[0m in \u001b[0;36miou_one_class_tmp\u001b[0;34m(annos1, annos2)\u001b[0m\n\u001b[1;32m     11\u001b[0m     \u001b[0;31m# Need to compute the overlap between the boxes of 1 and 2\u001b[0m\u001b[0;34m\u001b[0m\u001b[0;34m\u001b[0m\u001b[0m\n\u001b[1;32m     12\u001b[0m     \u001b[0mi1\u001b[0m \u001b[0;34m=\u001b[0m \u001b[0;36m0\u001b[0m\u001b[0;34m;\u001b[0m \u001b[0mi2\u001b[0m \u001b[0;34m=\u001b[0m \u001b[0;36m0\u001b[0m\u001b[0;34m\u001b[0m\u001b[0m\n\u001b[0;32m---> 13\u001b[0;31m     \u001b[0;32mfor\u001b[0m \u001b[0mb1\u001b[0m\u001b[0;34m,\u001b[0m \u001b[0mb2\u001b[0m \u001b[0;32min\u001b[0m \u001b[0mitertools\u001b[0m\u001b[0;34m.\u001b[0m\u001b[0mcombinations\u001b[0m\u001b[0;34m(\u001b[0m\u001b[0mannos1\u001b[0m\u001b[0;34m,\u001b[0m \u001b[0;36m2\u001b[0m\u001b[0;34m)\u001b[0m\u001b[0;34m:\u001b[0m\u001b[0;34m\u001b[0m\u001b[0m\n\u001b[0m\u001b[1;32m     14\u001b[0m         \u001b[0mi1\u001b[0m \u001b[0;34m+=\u001b[0m \u001b[0mcompute_intersect\u001b[0m\u001b[0;34m(\u001b[0m\u001b[0mb1\u001b[0m\u001b[0;34m,\u001b[0m \u001b[0mb2\u001b[0m\u001b[0;34m)\u001b[0m\u001b[0;34m\u001b[0m\u001b[0m\n\u001b[1;32m     15\u001b[0m     \u001b[0;32mfor\u001b[0m \u001b[0mb1\u001b[0m\u001b[0;34m,\u001b[0m \u001b[0mb2\u001b[0m \u001b[0;32min\u001b[0m \u001b[0mitertools\u001b[0m\u001b[0;34m.\u001b[0m\u001b[0mcombinations\u001b[0m\u001b[0;34m(\u001b[0m\u001b[0mannos2\u001b[0m\u001b[0;34m,\u001b[0m \u001b[0;36m2\u001b[0m\u001b[0;34m)\u001b[0m\u001b[0;34m:\u001b[0m\u001b[0;34m\u001b[0m\u001b[0m\n",
      "\u001b[0;32m<ipython-input-89-7f1e2b7d51db>\u001b[0m in \u001b[0;36miou_one_class_tmp\u001b[0;34m(annos1, annos2)\u001b[0m\n\u001b[1;32m     11\u001b[0m     \u001b[0;31m# Need to compute the overlap between the boxes of 1 and 2\u001b[0m\u001b[0;34m\u001b[0m\u001b[0;34m\u001b[0m\u001b[0m\n\u001b[1;32m     12\u001b[0m     \u001b[0mi1\u001b[0m \u001b[0;34m=\u001b[0m \u001b[0;36m0\u001b[0m\u001b[0;34m;\u001b[0m \u001b[0mi2\u001b[0m \u001b[0;34m=\u001b[0m \u001b[0;36m0\u001b[0m\u001b[0;34m\u001b[0m\u001b[0m\n\u001b[0;32m---> 13\u001b[0;31m     \u001b[0;32mfor\u001b[0m \u001b[0mb1\u001b[0m\u001b[0;34m,\u001b[0m \u001b[0mb2\u001b[0m \u001b[0;32min\u001b[0m \u001b[0mitertools\u001b[0m\u001b[0;34m.\u001b[0m\u001b[0mcombinations\u001b[0m\u001b[0;34m(\u001b[0m\u001b[0mannos1\u001b[0m\u001b[0;34m,\u001b[0m \u001b[0;36m2\u001b[0m\u001b[0;34m)\u001b[0m\u001b[0;34m:\u001b[0m\u001b[0;34m\u001b[0m\u001b[0m\n\u001b[0m\u001b[1;32m     14\u001b[0m         \u001b[0mi1\u001b[0m \u001b[0;34m+=\u001b[0m \u001b[0mcompute_intersect\u001b[0m\u001b[0;34m(\u001b[0m\u001b[0mb1\u001b[0m\u001b[0;34m,\u001b[0m \u001b[0mb2\u001b[0m\u001b[0;34m)\u001b[0m\u001b[0;34m\u001b[0m\u001b[0m\n\u001b[1;32m     15\u001b[0m     \u001b[0;32mfor\u001b[0m \u001b[0mb1\u001b[0m\u001b[0;34m,\u001b[0m \u001b[0mb2\u001b[0m \u001b[0;32min\u001b[0m \u001b[0mitertools\u001b[0m\u001b[0;34m.\u001b[0m\u001b[0mcombinations\u001b[0m\u001b[0;34m(\u001b[0m\u001b[0mannos2\u001b[0m\u001b[0;34m,\u001b[0m \u001b[0;36m2\u001b[0m\u001b[0;34m)\u001b[0m\u001b[0;34m:\u001b[0m\u001b[0;34m\u001b[0m\u001b[0m\n",
      "\u001b[0;32m~/miniconda3/lib/python3.6/bdb.py\u001b[0m in \u001b[0;36mtrace_dispatch\u001b[0;34m(self, frame, event, arg)\u001b[0m\n\u001b[1;32m     49\u001b[0m             \u001b[0;32mreturn\u001b[0m \u001b[0;31m# None\u001b[0m\u001b[0;34m\u001b[0m\u001b[0m\n\u001b[1;32m     50\u001b[0m         \u001b[0;32mif\u001b[0m \u001b[0mevent\u001b[0m \u001b[0;34m==\u001b[0m \u001b[0;34m'line'\u001b[0m\u001b[0;34m:\u001b[0m\u001b[0;34m\u001b[0m\u001b[0m\n\u001b[0;32m---> 51\u001b[0;31m             \u001b[0;32mreturn\u001b[0m \u001b[0mself\u001b[0m\u001b[0;34m.\u001b[0m\u001b[0mdispatch_line\u001b[0m\u001b[0;34m(\u001b[0m\u001b[0mframe\u001b[0m\u001b[0;34m)\u001b[0m\u001b[0;34m\u001b[0m\u001b[0m\n\u001b[0m\u001b[1;32m     52\u001b[0m         \u001b[0;32mif\u001b[0m \u001b[0mevent\u001b[0m \u001b[0;34m==\u001b[0m \u001b[0;34m'call'\u001b[0m\u001b[0;34m:\u001b[0m\u001b[0;34m\u001b[0m\u001b[0m\n\u001b[1;32m     53\u001b[0m             \u001b[0;32mreturn\u001b[0m \u001b[0mself\u001b[0m\u001b[0;34m.\u001b[0m\u001b[0mdispatch_call\u001b[0m\u001b[0;34m(\u001b[0m\u001b[0mframe\u001b[0m\u001b[0;34m,\u001b[0m \u001b[0marg\u001b[0m\u001b[0;34m)\u001b[0m\u001b[0;34m\u001b[0m\u001b[0m\n",
      "\u001b[0;32m~/miniconda3/lib/python3.6/bdb.py\u001b[0m in \u001b[0;36mdispatch_line\u001b[0;34m(self, frame)\u001b[0m\n\u001b[1;32m     68\u001b[0m         \u001b[0;32mif\u001b[0m \u001b[0mself\u001b[0m\u001b[0;34m.\u001b[0m\u001b[0mstop_here\u001b[0m\u001b[0;34m(\u001b[0m\u001b[0mframe\u001b[0m\u001b[0;34m)\u001b[0m \u001b[0;32mor\u001b[0m \u001b[0mself\u001b[0m\u001b[0;34m.\u001b[0m\u001b[0mbreak_here\u001b[0m\u001b[0;34m(\u001b[0m\u001b[0mframe\u001b[0m\u001b[0;34m)\u001b[0m\u001b[0;34m:\u001b[0m\u001b[0;34m\u001b[0m\u001b[0m\n\u001b[1;32m     69\u001b[0m             \u001b[0mself\u001b[0m\u001b[0;34m.\u001b[0m\u001b[0muser_line\u001b[0m\u001b[0;34m(\u001b[0m\u001b[0mframe\u001b[0m\u001b[0;34m)\u001b[0m\u001b[0;34m\u001b[0m\u001b[0m\n\u001b[0;32m---> 70\u001b[0;31m             \u001b[0;32mif\u001b[0m \u001b[0mself\u001b[0m\u001b[0;34m.\u001b[0m\u001b[0mquitting\u001b[0m\u001b[0;34m:\u001b[0m \u001b[0;32mraise\u001b[0m \u001b[0mBdbQuit\u001b[0m\u001b[0;34m\u001b[0m\u001b[0m\n\u001b[0m\u001b[1;32m     71\u001b[0m         \u001b[0;32mreturn\u001b[0m \u001b[0mself\u001b[0m\u001b[0;34m.\u001b[0m\u001b[0mtrace_dispatch\u001b[0m\u001b[0;34m\u001b[0m\u001b[0m\n\u001b[1;32m     72\u001b[0m \u001b[0;34m\u001b[0m\u001b[0m\n",
      "\u001b[0;31mBdbQuit\u001b[0m: "
     ]
    }
   ],
   "source": [
    "i, u = iou.iou_one_class(annos1, annos1)\n",
    "i, u, i/u, iou_one_class_tmp(annos1, annos1)"
   ]
  },
  {
   "cell_type": "code",
   "execution_count": null,
   "metadata": {},
   "outputs": [],
   "source": []
  }
 ],
 "metadata": {
  "kernelspec": {
   "display_name": "Python 3",
   "language": "python",
   "name": "python3"
  },
  "language_info": {
   "codemirror_mode": {
    "name": "ipython",
    "version": 3
   },
   "file_extension": ".py",
   "mimetype": "text/x-python",
   "name": "python",
   "nbconvert_exporter": "python",
   "pygments_lexer": "ipython3",
   "version": "3.6.5"
  },
  "toc": {
   "base_numbering": 1,
   "nav_menu": {},
   "number_sections": true,
   "sideBar": false,
   "skip_h1_title": true,
   "title_cell": "Table of Contents",
   "title_sidebar": "Contents",
   "toc_cell": false,
   "toc_position": {},
   "toc_section_display": true,
   "toc_window_display": false
  }
 },
 "nbformat": 4,
 "nbformat_minor": 2
}
