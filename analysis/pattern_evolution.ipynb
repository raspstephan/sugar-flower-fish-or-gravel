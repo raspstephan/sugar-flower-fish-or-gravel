{
 "cells": [
  {
   "cell_type": "markdown",
   "metadata": {},
   "source": [
    "# Order of patterns"
   ]
  },
  {
   "cell_type": "markdown",
   "metadata": {},
   "source": [
    "The evolution of patterns is investigated by evaluating the most common labels for consequtive timesteps (Terra > Aqua) or days (Terra (Day X) -> Terra (Day X+1) and for Aqua resp.). This analysis is done on a pixel to pixel basis. For any pixel within the image the most common labels per timestep are compared."
   ]
  },
  {
   "cell_type": "code",
   "execution_count": null,
   "metadata": {},
   "outputs": [],
   "source": [
    "import csv\n",
    "import matplotlib.pyplot as plt\n",
    "import xarray as xr\n",
    "import pandas as pd\n",
    "\n",
    "import numpy as np\n",
    "import seaborn as sns\n",
    "import datetime as datetime\n",
    "from netCDF4 import num2date, date2num\n",
    "import zooniverse as zn\n",
    "\n",
    "from PIL import Image\n",
    "import matplotlib.patches as patches\n",
    "import matplotlib.image as mpimage\n",
    "\n",
    "import numba as nb\n",
    "\n",
    "%load_ext autoreload\n",
    "%autoreload 2"
   ]
  },
  {
   "cell_type": "code",
   "execution_count": null,
   "metadata": {},
   "outputs": [],
   "source": [
    "classfile_in = '../zooniverse_raw/sugar-flower-fish-or-gravel-classifications_18_11_30.csv'\n",
    "subject_in = '../zooniverse_raw/sugar-flower-fish-or-gravel-subjects_18_11_05.csv'"
   ]
  },
  {
   "cell_type": "code",
   "execution_count": null,
   "metadata": {},
   "outputs": [],
   "source": [
    "subject_data = zn.load_classifications(subject_in)"
   ]
  },
  {
   "cell_type": "code",
   "execution_count": null,
   "metadata": {},
   "outputs": [],
   "source": [
    "def retrieve_fn(x):\n",
    "    try:\n",
    "        return x[\"fn\"]\n",
    "    except:\n",
    "        return None\n",
    "\n",
    "def retrieve_date(x):\n",
    "    try:\n",
    "        return np.int(x.split('/')[-1].split('_')[1][-8:])\n",
    "    except:\n",
    "        return None\n",
    "\n",
    "def retrieve_region(x):\n",
    "    regions = [\"Region1_DJF\", \"Region1_MAM\"]#, \"Region2_DJF\", \"Region3_DJF\", \"Region3_SON\"]\n",
    "    try:\n",
    "        for r,region_str in enumerate(regions):\n",
    "            if region_str in x: \n",
    "                return r\n",
    "    except:\n",
    "        return None\n",
    "\n",
    "def retrieve_satellite(x):\n",
    "    sats = [\"Aqua\", \"Terra\"]\n",
    "    try:\n",
    "        for s,sat_str in enumerate(sats):\n",
    "            if sat_str in x: \n",
    "                return s\n",
    "    except:\n",
    "        return None"
   ]
  },
  {
   "cell_type": "code",
   "execution_count": null,
   "metadata": {},
   "outputs": [],
   "source": [
    "subject_data[\"filename\"] = subject_data[\"metadata\"].apply(retrieve_fn)"
   ]
  },
  {
   "cell_type": "code",
   "execution_count": null,
   "metadata": {},
   "outputs": [],
   "source": [
    "subject_data[\"date\"] = subject_data[\"filename\"].apply(retrieve_date)"
   ]
  },
  {
   "cell_type": "code",
   "execution_count": null,
   "metadata": {},
   "outputs": [],
   "source": [
    "subject_data[\"region\"] = subject_data[\"filename\"].apply(retrieve_region)"
   ]
  },
  {
   "cell_type": "code",
   "execution_count": null,
   "metadata": {},
   "outputs": [],
   "source": [
    "subject_data[\"satellite\"] = subject_data[\"filename\"].apply(retrieve_satellite)"
   ]
  },
  {
   "cell_type": "code",
   "execution_count": null,
   "metadata": {},
   "outputs": [],
   "source": [
    "# Calculate pairs of (subject_id(t), subject_id(t+1))\n",
    "# for every region, satellite\n",
    "day_pairs = []\n",
    "pair_type = 'days'\n",
    "for i,subject in subject_data.iterrows():\n",
    "    ind = np.array([])\n",
    "    filename = subject.filename\n",
    "    # Region test\n",
    "    region    = subject.region\n",
    "    satellite = subject.satellite\n",
    "    date      = subject.date\n",
    "    next_day  = subject.date+1\n",
    "    # Time test\n",
    "    if pair_type == \"days\":\n",
    "        ind = np.where(np.logical_and(np.logical_and(subject_data.date == next_day, subject_data.region == region),subject_data.satellite == satellite))[0]\n",
    "    elif pair_type == \"satellite\" and satellite == 1: #Terra overpass is first\n",
    "        ind = np.where(np.logical_and(np.logical_and(subject_data.date == date, subject_data.region == region),subject_data.satellite == 0))[0]\n",
    "        \n",
    "        \n",
    "    if ind.size ==1: day_pairs.append([subject.subject_id ,np.int(subject_data.iloc[ind][\"subject_id\"].values)])\n",
    "    if ind.size > 1: day_pairs.append([subject.subject_id ,np.int(subject_data.iloc[ind][\"subject_id\"].values[0])])"
   ]
  },
  {
   "cell_type": "code",
   "execution_count": null,
   "metadata": {},
   "outputs": [],
   "source": [
    "len(day_pairs)"
   ]
  },
  {
   "cell_type": "code",
   "execution_count": null,
   "metadata": {},
   "outputs": [],
   "source": [
    "classification_data = zn.parse_classifications(classfile_in,json_columns=['metadata', 'annotations', 'subject_data']);\n",
    "fulldataset = classification_data[classification_data.workflow_id == 8073]; fulldataset.head()"
   ]
  },
  {
   "cell_type": "code",
   "execution_count": null,
   "metadata": {},
   "outputs": [],
   "source": [
    "def extract_labels(annotations):\n",
    "    annos = []\n",
    "    for a in annotations:\n",
    "        for box in a['value']:\n",
    "            annos.append([box['x'], box['y'], box['width'],\n",
    "                          box['height'], box['tool_label']\n",
    "            ])\n",
    "    return annos"
   ]
  },
  {
   "cell_type": "code",
   "execution_count": null,
   "metadata": {},
   "outputs": [],
   "source": [
    "for subject_id1, subject_id2 in day_pairs:\n",
    "    print(subject_id1, subject_id2)\n",
    "    classifications_1  = fulldataset[fulldataset.subject_ids == subject_id1]\n",
    "    classifications_2  = fulldataset[fulldataset.subject_ids == subject_id2]\n",
    "    boxes_1  = extract_labels(classifications_1.annotations.values)\n",
    "    boxes_2  = extract_labels(classifications_2.annotations.values)\n",
    "\n",
    "    break"
   ]
  },
  {
   "cell_type": "code",
   "execution_count": null,
   "metadata": {},
   "outputs": [],
   "source": [
    "boxes_2"
   ]
  },
  {
   "cell_type": "code",
   "execution_count": null,
   "metadata": {},
   "outputs": [],
   "source": [
    "pattern_dic = {'Sugar': 1, 'Flower': 2, 'Fish': 3, 'Gravel': 4}"
   ]
  },
  {
   "cell_type": "code",
   "execution_count": null,
   "metadata": {},
   "outputs": [],
   "source": [
    "# Create dictionary of possible combinations\n",
    "# pattern(day1) -> pattern(day2)\n",
    "from itertools import product\n",
    "patterns = ['0','1','2','3','4']\n",
    "freq_dic = {}\n",
    "for p in product(patterns,repeat=2):\n",
    "    freq_dic[p[0]+\"->\"+p[1]] = 0\n",
    "print(freq_dic)"
   ]
  },
  {
   "cell_type": "code",
   "execution_count": null,
   "metadata": {},
   "outputs": [],
   "source": [
    "@nb.jit()\n",
    "def calc_freq(common_boxes_1,common_boxes_2,output):\n",
    "    for before,after in zip(common_boxes_1.flatten(),common_boxes_2.flatten()):\n",
    "        output[before,after] += 1/(2100*1400)\n",
    "#         freq_dic[str(before)+'->'+str(after)] += 1"
   ]
  },
  {
   "cell_type": "code",
   "execution_count": null,
   "metadata": {},
   "outputs": [],
   "source": [
    "@nb.jit()\n",
    "def most_common_boxes(boxes,visualize=False):\n",
    "    \"\"\"\n",
    "    Combine most common boxes of one image\n",
    "    into one grid\n",
    "    \"\"\"\n",
    "    pattern_dic = {'Sugar': 1, 'Flower': 2, 'Fish': 3, 'Gravel': 4}\n",
    "    \n",
    "    grid = np.zeros((2100,1400,5),dtype=\"int\")\n",
    "    for b,box in enumerate(boxes):\n",
    "        # Get coordinates of single label\n",
    "        coords = np.round(box[0:4],0).astype(int)\n",
    "        x0 = coords[0]\n",
    "        y0 = coords[1]\n",
    "        # restrict x1,y1 to domain size\n",
    "        x1 = min(x0 + coords[2],2100)\n",
    "        y1 = min(y0 + coords[3],1400)\n",
    "        pattern = pattern_dic[box[4]]\n",
    "        # Add box to specific layer of grid\n",
    "        grid[x0:x1,y0:y1,pattern] += 1\n",
    "    if visualize: visualize_grid(grid)\n",
    "    common_box = np.argmax(grid,axis=2)\n",
    "    if visualize: visualize_common_box(common_box)\n",
    "    return common_box"
   ]
  },
  {
   "cell_type": "code",
   "execution_count": null,
   "metadata": {},
   "outputs": [],
   "source": [
    "def visualize_grid(grid):\n",
    "    pattern_dic_inv = {1: 'Sugar',2: 'Flower',3: 'Fish',4: 'Gravel'}\n",
    "    fig, ax = plt.subplots(1,len(pattern_dic_inv))\n",
    "    for p in pattern_dic.values():\n",
    "        ax[p-1].set_title(pattern_dic_inv[p])\n",
    "        ax[p-1].imshow(grid[:,:,p].T,origin=\"lower\",cmap=\"Blues\",alpha=0.8)\n",
    "        ax[p-1].axis('off')\n",
    "    plt.show()"
   ]
  },
  {
   "cell_type": "code",
   "execution_count": null,
   "metadata": {},
   "outputs": [],
   "source": [
    "def visualize_common_box(common_box):\n",
    "    fig, ax = plt.subplots(1,1)\n",
    "    ax.set_title('Common')\n",
    "    ax.imshow(common_box[:,:].T,origin=\"lower\",cmap=\"flag\",alpha=0.8)\n",
    "    ax.axis('off')\n",
    "    plt.show()"
   ]
  },
  {
   "cell_type": "code",
   "execution_count": null,
   "metadata": {},
   "outputs": [],
   "source": [
    "def calc_mutation_freq(subject_id_pair, dataset, visualize=False):\n",
    "    \"\"\"\n",
    "    Calculates the order of changing patterns\n",
    "    \"\"\"\n",
    "    subject_id1, subject_id2 = subject_id_pair\n",
    "    classifications_1  = fulldataset[fulldataset.subject_ids == subject_id1]\n",
    "    classifications_2  = fulldataset[fulldataset.subject_ids == subject_id2]\n",
    "    boxes_1  = extract_labels(classifications_1.annotations.values)\n",
    "    boxes_2  = extract_labels(classifications_2.annotations.values)\n",
    "\n",
    "    # Prepare boxes for intercomparison with other day\n",
    "    common_boxes_1 = most_common_boxes(boxes_1,visualize)\n",
    "\n",
    "    # Prepare boxes for intercomparison with other day\n",
    "    common_boxes_2 = most_common_boxes(boxes_2,visualize)\n",
    "    \n",
    "    calc_freq(common_boxes_1,common_boxes_2,output=freq_arr)\n",
    "    return None"
   ]
  },
  {
   "cell_type": "code",
   "execution_count": null,
   "metadata": {},
   "outputs": [],
   "source": [
    "freq_arr = np.zeros((5,5))\n",
    "for pair, (subject_id_pair) in enumerate(day_pairs):\n",
    "    calc_mutation_freq(subject_id_pair, fulldataset,visualize=False)\n",
    "    if pair%100 == 0: print(pair)"
   ]
  },
  {
   "cell_type": "code",
   "execution_count": null,
   "metadata": {},
   "outputs": [],
   "source": [
    "pairs_evaluated = len(day_pairs)\n",
    "print(np.round(freq_arr/pairs_evaluated*100,0))\n",
    "print(np.sum(freq_arr/pairs_evaluated*100))"
   ]
  },
  {
   "cell_type": "code",
   "execution_count": null,
   "metadata": {},
   "outputs": [],
   "source": [
    "dic = {}\n",
    "pattern_dic_inv = {0: 'None', 1: 'Sugar',2: 'Flower',3: 'Fish',4: 'Gravel'}\n",
    "for i,j in zip(np.indices((5,5))[0].flatten(),np.indices((5,5))[1].flatten()):\n",
    "    dic[pattern_dic_inv[i]+'->'+pattern_dic_inv[j]] = np.round(freq_arr[i,j]/pairs_evaluated*100,1)\n",
    "dic"
   ]
  },
  {
   "cell_type": "code",
   "execution_count": null,
   "metadata": {},
   "outputs": [],
   "source": [
    "sns.set_context('talk')\n",
    "ax = sns.heatmap(np.round(freq_arr/pairs_evaluated*100,1),annot=True,vmin=0,vmax=3,cmap='BuGn',\n",
    "            cbar=False,xticklabels=pattern_dic_inv.values(),\n",
    "            yticklabels=pattern_dic_inv.values());\n",
    "ax.xaxis.set_ticks_position('top')\n",
    "plt.gcf().set_dpi(300)"
   ]
  },
  {
   "cell_type": "code",
   "execution_count": null,
   "metadata": {},
   "outputs": [],
   "source": [
    "sns.set_context('talk')\n",
    "percentage_all = freq_arr/pairs_evaluated*100\n",
    "percentage_not_nones = percentage_all[1:,1:]/np.sum(percentage_all[1:,1:])*100\n",
    "ax = sns.heatmap(np.round(percentage_not_nones,1),annot=True,vmin=0,vmax=20,cmap='BuGn',\n",
    "            cbar=False,xticklabels=list(pattern_dic_inv.values())[1:],\n",
    "            yticklabels=list(pattern_dic_inv.values())[1:]);\n",
    "ax.xaxis.set_ticks_position('top')\n",
    "plt.gcf().set_dpi(300)"
   ]
  },
  {
   "cell_type": "code",
   "execution_count": null,
   "metadata": {},
   "outputs": [],
   "source": [
    "sns.set_context('talk')\n",
    "percentage_all = freq_arr\n",
    "percentage_not_nones = percentage_all[1:,1:]\n",
    "ax = sns.heatmap(np.round(percentage_not_nones,1),annot=True,vmin=0,vmax=20,cmap='BuGn',\n",
    "            cbar=False,xticklabels=list(pattern_dic_inv.values())[1:],\n",
    "            yticklabels=list(pattern_dic_inv.values())[1:]);\n",
    "ax.xaxis.set_ticks_position('top')\n",
    "plt.gcf().set_dpi(300)"
   ]
  },
  {
   "cell_type": "code",
   "execution_count": null,
   "metadata": {},
   "outputs": [],
   "source": [
    "freq_arr"
   ]
  }
 ],
 "metadata": {
  "kernelspec": {
   "display_name": "Python 3",
   "language": "python",
   "name": "python3"
  },
  "language_info": {
   "codemirror_mode": {
    "name": "ipython",
    "version": 3
   },
   "file_extension": ".py",
   "mimetype": "text/x-python",
   "name": "python",
   "nbconvert_exporter": "python",
   "pygments_lexer": "ipython3",
   "version": "3.6.4"
  }
 },
 "nbformat": 4,
 "nbformat_minor": 2
}
