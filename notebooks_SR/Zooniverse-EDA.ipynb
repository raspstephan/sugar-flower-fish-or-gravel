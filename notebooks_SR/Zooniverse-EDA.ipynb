{
 "cells": [
  {
   "cell_type": "markdown",
   "metadata": {},
   "source": [
    "- read datasets, potentially using sql query if it doesn't take long\n",
    "- do my own basic explorations, compare to Hauke's\n",
    "- Visualize labels\n",
    "- IoU"
   ]
  },
  {
   "cell_type": "code",
   "execution_count": null,
   "metadata": {},
   "outputs": [],
   "source": [
    "# Imports\n",
    "import pandas as pd\n",
    "import json\n",
    "import numpy as np\n",
    "import matplotlib.pyplot as plt\n",
    "from collections import defaultdict\n",
    "%matplotlib inline\n",
    "import matplotlib.patches as patches\n",
    "from PIL import Image\n",
    "import pdb\n",
    "import seaborn as sns\n",
    "import itertools"
   ]
  },
  {
   "cell_type": "markdown",
   "metadata": {},
   "source": [
    "## Read  and preprocess dataset"
   ]
  },
  {
   "cell_type": "code",
   "execution_count": null,
   "metadata": {},
   "outputs": [],
   "source": [
    "### Functions from https://github.com/zooniverse/Data-digging/blob/master/example_scripts/astronomy_rewind/workflow1to2.py\n",
    "\n",
    "def JSONParser(data):\n",
    "    \"\"\"call json.loads\"\"\"\n",
    "    return json.loads(data)\n",
    "\n",
    "\n",
    "def load_classifications(filename, json_columns=None):\n",
    "    \"\"\"\n",
    "    Load classifications into pandas dataframe.\n",
    "    Some columns of the csv are embedded json and need special parsing.\n",
    "    \"\"\"\n",
    "    json_columns = json_columns or ['metadata', 'annotations', 'subject_data']\n",
    "    converters = {i: JSONParser for i in json_columns}\n",
    "\n",
    "    return pd.read_csv(filename, converters=converters)\n",
    "\n",
    "def unpack(series):\n",
    "    \"\"\"\n",
    "    Return the first value in a series.\n",
    "    All annotations values are lists because of a few multiple tasks.\n",
    "    The second multiple task always has the value of 'None of the above'\n",
    "    (For this dataset!)\n",
    "    \"\"\"\n",
    "    return [a[0] for a in series]\n",
    "\n",
    "\n",
    "def parse_classifications(filename,**kwarg):\n",
    "    \"\"\"\n",
    "    Load classifications and datamunge annotations column.\n",
    "    \"\"\"\n",
    "    data = load_classifications(filename,**kwarg)\n",
    "\n",
    "    # Only need the first item in the annotations list of json objects\n",
    "    data['annotations'] = unpack(data['annotations'])\n",
    "    return data"
   ]
  },
  {
   "cell_type": "code",
   "execution_count": null,
   "metadata": {},
   "outputs": [],
   "source": [
    "clas_fn = '../zooniverse_raw/sugar-flower-fish-or-gravel-classifications_18_11_02.csv'\n",
    "subj_fn = '../zooniverse_raw/sugar-flower-fish-or-gravel-subjects_18_11_05.csv'"
   ]
  },
  {
   "cell_type": "markdown",
   "metadata": {},
   "source": [
    "### Split into practice and full dataset files and only take files from the actual classification day."
   ]
  },
  {
   "cell_type": "code",
   "execution_count": null,
   "metadata": {},
   "outputs": [],
   "source": [
    "clas = parse_classifications(clas_fn,json_columns=['metadata', 'annotations', 'subject_data'])"
   ]
  },
  {
   "cell_type": "code",
   "execution_count": null,
   "metadata": {},
   "outputs": [],
   "source": [
    "subj = load_classifications(subj_fn)"
   ]
  },
  {
   "cell_type": "code",
   "execution_count": null,
   "metadata": {},
   "outputs": [],
   "source": [
    "clas['datetime'] = pd.to_datetime(clas['created_at'])"
   ]
  },
  {
   "cell_type": "code",
   "execution_count": null,
   "metadata": {},
   "outputs": [],
   "source": [
    "clas = clas[clas['datetime'].dt.date == np.datetime64('2018-11-02')]"
   ]
  },
  {
   "cell_type": "code",
   "execution_count": null,
   "metadata": {},
   "outputs": [],
   "source": [
    "# How many labels for annotation\n",
    "clas['num_boxes'] = clas['annotations'].apply(lambda x: len(x['value']))"
   ]
  },
  {
   "cell_type": "code",
   "execution_count": null,
   "metadata": {},
   "outputs": [],
   "source": [
    "clas['num_boxes'].hist(bins=np.arange(13))"
   ]
  },
  {
   "cell_type": "code",
   "execution_count": null,
   "metadata": {},
   "outputs": [],
   "source": [
    "prac = clas[clas['workflow_name'] == 'Practice']\n",
    "full = clas[clas['workflow_name'] == 'Full dataset']"
   ]
  },
  {
   "cell_type": "code",
   "execution_count": null,
   "metadata": {},
   "outputs": [],
   "source": [
    "len(prac), len(full)"
   ]
  },
  {
   "cell_type": "markdown",
   "metadata": {},
   "source": [
    "### Prepare some helpful dictionaries"
   ]
  },
  {
   "cell_type": "code",
   "execution_count": null,
   "metadata": {},
   "outputs": [],
   "source": [
    "classes = ['Sugar', 'Flower', 'Fish', 'Gravel']"
   ]
  },
  {
   "cell_type": "code",
   "execution_count": null,
   "metadata": {},
   "outputs": [],
   "source": [
    "subjects_name = {60811:'BCO_DJF_Aqua',60812:'BCO_DJF_Terra',60813: 'BCO_MAM_Aqua',\\\n",
    "                 60814: 'BCO_MAM_Terra',60815:'R2_DJF_Aqua',60816:'R2_DJF_Terra',\\\n",
    "                 60817:'R3_DJF_Aqua', 60818:'R3_DJF_Terra',60819:'R3_SON_Aqua',\\\n",
    "                 60835: 'R3_SON_Terra'}"
   ]
  },
  {
   "cell_type": "code",
   "execution_count": null,
   "metadata": {},
   "outputs": [],
   "source": [
    "subj2fn = {}\n",
    "for i, r in subj.iterrows():\n",
    "    if r['subject_set_id'] in list(subjects_name.keys()):\n",
    "        subj2fn[r['subject_id']] =  r['metadata']['fn']"
   ]
  },
  {
   "cell_type": "code",
   "execution_count": null,
   "metadata": {},
   "outputs": [],
   "source": [
    "subjects = list(subj2fn.keys())"
   ]
  },
  {
   "cell_type": "code",
   "execution_count": null,
   "metadata": {},
   "outputs": [],
   "source": [
    "img.size"
   ]
  },
  {
   "cell_type": "code",
   "execution_count": null,
   "metadata": {},
   "outputs": [],
   "source": [
    "image_width = 2100\n",
    "image_height = 1400"
   ]
  },
  {
   "cell_type": "code",
   "execution_count": null,
   "metadata": {},
   "outputs": [],
   "source": [
    "# Dictionary for every subject containing all annotations (also empty ones!)\n",
    "annos = defaultdict(list)\n",
    "for i, r in full.iterrows():\n",
    "    if len(r['annotations']['value']) > 0 :\n",
    "        for a in r['annotations']['value']:\n",
    "            x = np.max([0., a['x']]); y = np.max([0., a['y']])\n",
    "            w = np.min([image_width - a['x'], a['width']])\n",
    "            h = np.min([image_height - a['y'], a['height']])\n",
    "            annos[r['subject_ids']].append([\n",
    "                r['user_name'],\n",
    "                [x, y, w, h],\n",
    "                a['tool_label']\n",
    "            ])\n",
    "    else:   # No annotation\n",
    "        annos[r['subject_ids']].append([\n",
    "            r['user_name'],\n",
    "            [None, None, None, None],\n",
    "            None\n",
    "        ])"
   ]
  },
  {
   "cell_type": "code",
   "execution_count": null,
   "metadata": {},
   "outputs": [],
   "source": [
    "annos_prac = defaultdict(list)\n",
    "for i, r in prac.iterrows():\n",
    "    if len(r['annotations']['value']) > 0 :\n",
    "        for a in r['annotations']['value']:\n",
    "            x = np.max([0., a['x']]); y = np.max([0., a['y']])\n",
    "            w = np.min([image_width - a['x'], a['width']])\n",
    "            h = np.min([image_height - a['y'], a['height']])\n",
    "            annos_prac[r['subject_ids']].append([\n",
    "                r['user_name'],\n",
    "                [x, y, w, h],\n",
    "                a['tool_label']\n",
    "            ])\n",
    "    else:   # No annotation\n",
    "        annos_prac[r['subject_ids']].append([\n",
    "            r['user_name'],\n",
    "            [None, None, None, None],\n",
    "            None\n",
    "        ])"
   ]
  },
  {
   "cell_type": "code",
   "execution_count": null,
   "metadata": {},
   "outputs": [],
   "source": [
    "subjects_prac = list(annos_prac.keys()); len(subjects_prac)"
   ]
  },
  {
   "cell_type": "markdown",
   "metadata": {},
   "source": [
    "## Plotting"
   ]
  },
  {
   "cell_type": "code",
   "execution_count": null,
   "metadata": {},
   "outputs": [],
   "source": [
    "s=subjects_prac[28]"
   ]
  },
  {
   "cell_type": "code",
   "execution_count": null,
   "metadata": {},
   "outputs": [],
   "source": [
    "def plot_with_annos(subject_id, annos=annos, users=None):\n",
    "    fig, ax = plt.subplots(figsize=(15, 10))\n",
    "    img = Image.open(subj2fn[subject_id])\n",
    "    ax.imshow(img)\n",
    "    nones = []\n",
    "    for a in annos[s]:\n",
    "        if a[2] is not None:\n",
    "            if users is not None and a[0] in users:\n",
    "                coords = a[1]\n",
    "                rect = patches.Rectangle((coords[0],coords[1]), coords[2], coords[3], facecolor='none', edgecolor='r')\n",
    "                ax.add_patch(rect)\n",
    "                ax.text(coords[0],coords[1], a[2] + ' - ' + a[0], color='red', fontsize=15, va='top')\n",
    "        else:\n",
    "            nones.append(a[0])\n",
    "    if len(nones) > 0:\n",
    "        ax.text(0, -50, 'None: ' + str(nones), color='red', fontsize=15, va='top')"
   ]
  },
  {
   "cell_type": "code",
   "execution_count": null,
   "metadata": {},
   "outputs": [],
   "source": [
    "plot_with_annos(s, annos_prac, ['raspstephan', 'DelaS'])"
   ]
  },
  {
   "cell_type": "markdown",
   "metadata": {},
   "source": [
    "## IoU Score"
   ]
  },
  {
   "cell_type": "code",
   "execution_count": null,
   "metadata": {},
   "outputs": [],
   "source": [
    "prac['user_name'].unique()"
   ]
  },
  {
   "cell_type": "code",
   "execution_count": null,
   "metadata": {},
   "outputs": [],
   "source": [
    "unique_users = list(prac['user_name'].unique())"
   ]
  },
  {
   "cell_type": "code",
   "execution_count": null,
   "metadata": {},
   "outputs": [],
   "source": [
    "agreement  = defaultdict(list)\n",
    "for s in subjects_prac:\n",
    "    for u in unique_users:\n",
    "        agreement[u].append(get_comp_data(s, 'raspstephan', u, annos_prac))"
   ]
  },
  {
   "cell_type": "code",
   "execution_count": null,
   "metadata": {},
   "outputs": [],
   "source": [
    "df = pd.DataFrame(data = {'agreement': [np.mean([a for a in agreement[u] if a is not None]) for u in unique_users]}, index=unique_users)"
   ]
  },
  {
   "cell_type": "code",
   "execution_count": null,
   "metadata": {},
   "outputs": [],
   "source": [
    "df.sort_values('agreement', axis=0, ascending=False, inplace=True)"
   ]
  },
  {
   "cell_type": "code",
   "execution_count": null,
   "metadata": {},
   "outputs": [],
   "source": [
    "fig = plt.figure(figsize=(10, 10))\n",
    "sns.barplot(x=df['agreement'], y=df.index)"
   ]
  },
  {
   "cell_type": "code",
   "execution_count": null,
   "metadata": {},
   "outputs": [],
   "source": [
    "get_comp_data(s, 'JuleR', 'bschul')"
   ]
  },
  {
   "cell_type": "code",
   "execution_count": null,
   "metadata": {},
   "outputs": [],
   "source": [
    "get_comp_data(s, 'bschul', 'JuleR')"
   ]
  },
  {
   "cell_type": "code",
   "execution_count": null,
   "metadata": {},
   "outputs": [],
   "source": [
    "%debug"
   ]
  },
  {
   "cell_type": "code",
   "execution_count": null,
   "metadata": {},
   "outputs": [],
   "source": [
    "def get_comp_data(subject_id, user1, user2, annos=annos):\n",
    "    subj_annos = annos[subject_id]\n",
    "    users = list(set([a[0] for a in subj_annos]))\n",
    "    if user1 in users and user2 in users:\n",
    "        annos1 = [a[1:] for a in subj_annos if a[0] == user1]\n",
    "        annos2 = [a[1:] for a in subj_annos if a[0] == user2]\n",
    "        if annos1[0][1] is None and annos2[0][1] is None:\n",
    "            iou = 1.\n",
    "        elif annos1[0][1] is None:\n",
    "            iou = 0.\n",
    "        elif annos2[0][1] is None:\n",
    "            iou = 0.\n",
    "        else:\n",
    "            iou = iou_multi_class(annos1, annos2)\n",
    "        return iou\n",
    "    else:\n",
    "        return None"
   ]
  },
  {
   "cell_type": "code",
   "execution_count": null,
   "metadata": {},
   "outputs": [],
   "source": [
    "def iou_multi_class(annos1, annos2):\n",
    "    \"\"\"For two users\"\"\"\n",
    "    i_tot = 0; u_tot = 0\n",
    "    for c in classes:\n",
    "        ac1 = [a[0] for a in annos1 if a[1] == c]\n",
    "        ac2 = [a[0] for a in annos2 if a[1] == c]\n",
    "        if len(ac1) == 0 and len(ac2) == 0:   # None of the users has this class\n",
    "            i = 0; u = 0\n",
    "        elif len(ac1) == 0 or len(ac2) == 0:\n",
    "            i = 0\n",
    "            u = compute_area_sum(ac1 + ac2)\n",
    "        else:\n",
    "            i, u = iou_one_class(ac1, ac2)\n",
    "        i_tot += i; u_tot += u\n",
    "    return i_tot / u_tot"
   ]
  },
  {
   "cell_type": "code",
   "execution_count": null,
   "metadata": {},
   "outputs": [],
   "source": [
    "a = [0]\n",
    "itertools.combinations(a, 2)"
   ]
  },
  {
   "cell_type": "code",
   "execution_count": null,
   "metadata": {},
   "outputs": [],
   "source": [
    "def iou_one_class(annos1, annos2):\n",
    "    \"\"\"annos1 and annos2 are lists with the coordinates of each annotation\"\"\"\n",
    "    # All permutations\n",
    "    i = 0\n",
    "    for a1 in annos1:\n",
    "        for a2 in annos2:\n",
    "            i += compute_intersect(a1, a2)\n",
    "    # Need to compute the overlap between the boxes of 1 and 2\n",
    "    i1 = 0; i2 = 0\n",
    "    for b1, b2 in itertools.combinations(annos1, 2):\n",
    "        i1 += compute_intersect(b1, b2)\n",
    "    for b1, b2 in itertools.combinations(annos2, 2):\n",
    "        i2 += compute_intersect(b1, b2)\n",
    "    u = compute_area_sum(annos1 + annos2) - i# - i1 -i2\n",
    "    \n",
    "    iou = i/u  #(i - i1 - i2) / u\n",
    "    return i, u"
   ]
  },
  {
   "cell_type": "code",
   "execution_count": null,
   "metadata": {},
   "outputs": [],
   "source": [
    "def wh2xy(x, y, w, h):\n",
    "    return x, y, x+w, y+h"
   ]
  },
  {
   "cell_type": "code",
   "execution_count": null,
   "metadata": {},
   "outputs": [],
   "source": [
    "def compute_intersect(a1, a2):\n",
    "    \"\"\"https://www.pyimagesearch.com/2016/11/07/intersection-over-union-iou-for-object-detection/\"\"\"\n",
    "    x1a, y1a, x2a, y2a = wh2xy(*a1)\n",
    "    x1b, y1b, x2b, y2b = wh2xy(*a2)\n",
    "    xA = max(x1a, x1b)\n",
    "    yA = max(y1a, y1b)\n",
    "    xB = min(x2a, x2b)\n",
    "    yB = min(y2a, y2b)\n",
    "    i = max(0, xB - xA) * max(0, yB - yA) # max(0, xB - xA + 1) * max(0, yB - yA + 1)\n",
    "    return i"
   ]
  },
  {
   "cell_type": "code",
   "execution_count": null,
   "metadata": {},
   "outputs": [],
   "source": [
    "def compute_area_sum(annos):\n",
    "    areas = [a[2] * a[3] for a in annos]\n",
    "    return np.sum(areas)"
   ]
  },
  {
   "cell_type": "code",
   "execution_count": null,
   "metadata": {},
   "outputs": [],
   "source": []
  },
  {
   "cell_type": "code",
   "execution_count": null,
   "metadata": {},
   "outputs": [],
   "source": []
  },
  {
   "cell_type": "code",
   "execution_count": null,
   "metadata": {},
   "outputs": [],
   "source": []
  },
  {
   "cell_type": "code",
   "execution_count": null,
   "metadata": {},
   "outputs": [],
   "source": [
    "a1 = [113.23209381103516,\n",
    "                296.8004150390625,\n",
    "                1779.1966171264648,\n",
    "                1087.6436767578125]\n",
    "a2 = [80.33280181884766,\n",
    "                355.62127685546875,\n",
    "                1628.1209335327148,\n",
    "                919.8423461914062]\n",
    "a1 = [10, 10, 400, 400]\n",
    "a2 = [10, 10, 300, 300]\n",
    "a3 = [600, 600, 100, 100]"
   ]
  },
  {
   "cell_type": "code",
   "execution_count": null,
   "metadata": {},
   "outputs": [],
   "source": [
    "fig, ax = plt.subplots(figsize=(15, 10))\n",
    "img = Image.open(subj2fn[27145058])\n",
    "ax.imshow(img)\n",
    "rect = patches.Rectangle((a1[0],a1[1]), a1[2], a1[3], facecolor='none', edgecolor='r')\n",
    "ax.add_patch(rect)\n",
    "rect = patches.Rectangle((a2[0],a2[1]), a2[2], a2[3], facecolor='none', edgecolor='g')\n",
    "ax.add_patch(rect)\n",
    "rect = patches.Rectangle((a3[0],a3[1]), a3[2], a3[3], facecolor='none', edgecolor='g')\n",
    "ax.add_patch(rect)"
   ]
  },
  {
   "cell_type": "code",
   "execution_count": null,
   "metadata": {},
   "outputs": [],
   "source": [
    "i = compute_intersect(a1, a2)\n",
    "a = compute_area_sum([a1, a2])\n",
    "u = a - i\n",
    "iou = i / u\n",
    "i, a, u, iou"
   ]
  },
  {
   "cell_type": "code",
   "execution_count": null,
   "metadata": {},
   "outputs": [],
   "source": [
    "iou_one_class([a1], [a2, a3])"
   ]
  },
  {
   "cell_type": "markdown",
   "metadata": {},
   "source": [
    "# Old"
   ]
  },
  {
   "cell_type": "code",
   "execution_count": null,
   "metadata": {},
   "outputs": [],
   "source": [
    "clas['num_boxes'] = clas['annotations'].apply(lambda x: len(x['value']))"
   ]
  },
  {
   "cell_type": "code",
   "execution_count": null,
   "metadata": {},
   "outputs": [],
   "source": []
  },
  {
   "cell_type": "code",
   "execution_count": null,
   "metadata": {},
   "outputs": [],
   "source": [
    "full"
   ]
  },
  {
   "cell_type": "code",
   "execution_count": null,
   "metadata": {},
   "outputs": [],
   "source": [
    "clas = parse_classifications(clas_fn,json_columns=['metadata', 'annotations', 'subject_data'])\n",
    "subj = load_classifications(subj_fn); subj.head()"
   ]
  },
  {
   "cell_type": "code",
   "execution_count": null,
   "metadata": {},
   "outputs": [],
   "source": [
    "subj"
   ]
  },
  {
   "cell_type": "code",
   "execution_count": null,
   "metadata": {},
   "outputs": [],
   "source": [
    "subj.tail()"
   ]
  },
  {
   "cell_type": "code",
   "execution_count": null,
   "metadata": {},
   "outputs": [],
   "source": [
    "subj['metadata'][0]['fn']"
   ]
  },
  {
   "cell_type": "code",
   "execution_count": null,
   "metadata": {},
   "outputs": [],
   "source": [
    "subjects_name = {60811:'BCO_DJF_Aqua',60812:'BCO_DJF_Terra',60813: 'BCO_MAM_Aqua',\\\n",
    "                 60814: 'BCO_MAM_Terra',60815:'R2_DJF_Aqua',60816:'R2_DJF_Terra',\\\n",
    "                 60817:'R3_DJF_Aqua', 60818:'R3_DJF_Terra',60819:'R3_SON_Aqua',\\\n",
    "                 60835: 'R3_SON_Terra'}"
   ]
  },
  {
   "cell_type": "code",
   "execution_count": null,
   "metadata": {},
   "outputs": [],
   "source": [
    "subj2fn = {}\n",
    "for i, r in subj.iterrows():\n",
    "    if r['subject_set_id'] in list(subjects_name.keys()):\n",
    "        subj2fn[r['subject_id']] =  r['metadata']['fn']"
   ]
  },
  {
   "cell_type": "code",
   "execution_count": null,
   "metadata": {},
   "outputs": [],
   "source": [
    "len(subj2fn)"
   ]
  },
  {
   "cell_type": "code",
   "execution_count": null,
   "metadata": {},
   "outputs": [],
   "source": [
    "len(clas)"
   ]
  },
  {
   "cell_type": "code",
   "execution_count": null,
   "metadata": {},
   "outputs": [],
   "source": [
    "clas.head()"
   ]
  },
  {
   "cell_type": "code",
   "execution_count": null,
   "metadata": {},
   "outputs": [],
   "source": [
    "clas.tail()"
   ]
  },
  {
   "cell_type": "code",
   "execution_count": null,
   "metadata": {},
   "outputs": [],
   "source": [
    "prac = clas[clas['workflow_name'] == 'Practice']"
   ]
  },
  {
   "cell_type": "code",
   "execution_count": null,
   "metadata": {},
   "outputs": [],
   "source": [
    "len(prac)"
   ]
  },
  {
   "cell_type": "code",
   "execution_count": null,
   "metadata": {},
   "outputs": [],
   "source": [
    "clas['num_boxes'] = clas['annotations'].apply(lambda x: len(x['value']))"
   ]
  },
  {
   "cell_type": "code",
   "execution_count": null,
   "metadata": {},
   "outputs": [],
   "source": [
    "clas['num_boxes'].describe()"
   ]
  },
  {
   "cell_type": "code",
   "execution_count": null,
   "metadata": {},
   "outputs": [],
   "source": [
    "clas['num_boxes'].sum()"
   ]
  },
  {
   "cell_type": "code",
   "execution_count": null,
   "metadata": {},
   "outputs": [],
   "source": [
    "clas['num_boxes'].hist(bins=np.arange(13))"
   ]
  },
  {
   "cell_type": "code",
   "execution_count": null,
   "metadata": {},
   "outputs": [],
   "source": [
    "clas['user_name'].unique(), clas['user_name'].unique().shape"
   ]
  },
  {
   "cell_type": "code",
   "execution_count": null,
   "metadata": {},
   "outputs": [],
   "source": [
    "clas['user_name'].value_counts()"
   ]
  },
  {
   "cell_type": "code",
   "execution_count": null,
   "metadata": {},
   "outputs": [],
   "source": [
    "prac['user_name'].value_counts()"
   ]
  },
  {
   "cell_type": "markdown",
   "metadata": {},
   "source": [
    "## Basic exploration"
   ]
  },
  {
   "cell_type": "markdown",
   "metadata": {},
   "source": [
    "### Distribution of labels"
   ]
  },
  {
   "cell_type": "code",
   "execution_count": null,
   "metadata": {},
   "outputs": [],
   "source": [
    "labels = pd.Series([l['tool_label'] for a in clas['annotations'] for l in a['value'] ])"
   ]
  },
  {
   "cell_type": "code",
   "execution_count": null,
   "metadata": {},
   "outputs": [],
   "source": [
    "len(labels)"
   ]
  },
  {
   "cell_type": "code",
   "execution_count": null,
   "metadata": {},
   "outputs": [],
   "source": [
    "labels.value_counts()"
   ]
  },
  {
   "cell_type": "markdown",
   "metadata": {},
   "source": [
    "## Visualize labels"
   ]
  },
  {
   "cell_type": "code",
   "execution_count": null,
   "metadata": {},
   "outputs": [],
   "source": [
    "clas.head()"
   ]
  },
  {
   "cell_type": "code",
   "execution_count": null,
   "metadata": {},
   "outputs": [],
   "source": [
    "full = clas[clas['workflow_name'] == 'Full dataset']"
   ]
  },
  {
   "cell_type": "code",
   "execution_count": null,
   "metadata": {},
   "outputs": [],
   "source": [
    "full.drop(full.index[0], inplace=True)"
   ]
  },
  {
   "cell_type": "code",
   "execution_count": null,
   "metadata": {},
   "outputs": [],
   "source": [
    "full['datetime'] = pd.to_datetime(full['created_at'])"
   ]
  },
  {
   "cell_type": "code",
   "execution_count": null,
   "metadata": {},
   "outputs": [],
   "source": [
    "full = full[full['datetime'].dt.date == np.datetime64('2018-11-02')]"
   ]
  },
  {
   "cell_type": "code",
   "execution_count": null,
   "metadata": {},
   "outputs": [],
   "source": [
    "full"
   ]
  },
  {
   "cell_type": "code",
   "execution_count": null,
   "metadata": {},
   "outputs": [],
   "source": [
    "full['fn'] = full.apply(lambda r: subj2fn[r['subject_ids']], axis=1)"
   ]
  },
  {
   "cell_type": "code",
   "execution_count": null,
   "metadata": {},
   "outputs": [],
   "source": [
    "full.head()"
   ]
  },
  {
   "cell_type": "code",
   "execution_count": null,
   "metadata": {},
   "outputs": [],
   "source": [
    "from PIL import Image"
   ]
  },
  {
   "cell_type": "code",
   "execution_count": null,
   "metadata": {},
   "outputs": [],
   "source": [
    "full['fn'].iloc[0]"
   ]
  },
  {
   "cell_type": "code",
   "execution_count": null,
   "metadata": {},
   "outputs": [],
   "source": [
    "from collections import defaultdict"
   ]
  },
  {
   "cell_type": "code",
   "execution_count": null,
   "metadata": {},
   "outputs": [],
   "source": [
    "subjects = list(subj2fn.keys())"
   ]
  },
  {
   "cell_type": "code",
   "execution_count": null,
   "metadata": {},
   "outputs": [],
   "source": [
    "full"
   ]
  },
  {
   "cell_type": "code",
   "execution_count": null,
   "metadata": {},
   "outputs": [],
   "source": [
    "annos = defaultdict(list)\n",
    "for i, r in full.iterrows():\n",
    "    for a in r['annotations']['value']:\n",
    "        annos[r['subject_ids']].append([\n",
    "            r['user_name'],\n",
    "            [a['x'], a['y'], a['width'], a['height']],\n",
    "            a['tool_label']\n",
    "        ])"
   ]
  },
  {
   "cell_type": "code",
   "execution_count": null,
   "metadata": {},
   "outputs": [],
   "source": [
    "annos"
   ]
  },
  {
   "cell_type": "code",
   "execution_count": null,
   "metadata": {},
   "outputs": [],
   "source": [
    "s = 27146483"
   ]
  },
  {
   "cell_type": "code",
   "execution_count": null,
   "metadata": {},
   "outputs": [],
   "source": [
    "img = Image.open(subj2fn[s])"
   ]
  },
  {
   "cell_type": "code",
   "execution_count": null,
   "metadata": {},
   "outputs": [],
   "source": [
    "annos[s]"
   ]
  },
  {
   "cell_type": "code",
   "execution_count": null,
   "metadata": {},
   "outputs": [],
   "source": [
    "annos[s][0][1]"
   ]
  },
  {
   "cell_type": "code",
   "execution_count": null,
   "metadata": {},
   "outputs": [],
   "source": [
    "import matplotlib.patches as patches"
   ]
  },
  {
   "cell_type": "code",
   "execution_count": null,
   "metadata": {},
   "outputs": [],
   "source": [
    "s = subjects[5009]"
   ]
  },
  {
   "cell_type": "code",
   "execution_count": null,
   "metadata": {},
   "outputs": [],
   "source": [
    "fig, ax = plt.subplots(figsize=(15, 10))\n",
    "img = Image.open(subj2fn[s])\n",
    "ax.imshow(img)\n",
    "for a in annos[s]:\n",
    "    coords = a[1]\n",
    "    rect = patches.Rectangle((coords[0],coords[1]), coords[2], coords[3], facecolor='none', edgecolor='r')\n",
    "    ax.add_patch(rect)\n",
    "    ax.text(coords[0],coords[1], a[2] + ' - ' + a[0], color='red', fontsize=15, va='top')"
   ]
  },
  {
   "cell_type": "code",
   "execution_count": null,
   "metadata": {},
   "outputs": [],
   "source": []
  },
  {
   "cell_type": "code",
   "execution_count": null,
   "metadata": {},
   "outputs": [],
   "source": [
    "labels = pd.Series([l['tool_label'] for a in clas['annotations'] for l in a['value'] ])"
   ]
  },
  {
   "cell_type": "code",
   "execution_count": null,
   "metadata": {},
   "outputs": [],
   "source": [
    "full['annotations'].iloc[0]"
   ]
  }
 ],
 "metadata": {
  "kernelspec": {
   "display_name": "Python 3",
   "language": "python",
   "name": "python3"
  },
  "language_info": {
   "codemirror_mode": {
    "name": "ipython",
    "version": 3
   },
   "file_extension": ".py",
   "mimetype": "text/x-python",
   "name": "python",
   "nbconvert_exporter": "python",
   "pygments_lexer": "ipython3",
   "version": "3.6.5"
  },
  "toc": {
   "base_numbering": 1,
   "nav_menu": {},
   "number_sections": true,
   "sideBar": false,
   "skip_h1_title": true,
   "title_cell": "Table of Contents",
   "title_sidebar": "Contents",
   "toc_cell": false,
   "toc_position": {},
   "toc_section_display": true,
   "toc_window_display": false
  }
 },
 "nbformat": 4,
 "nbformat_minor": 2
}
